{
 "cells": [
  {
   "cell_type": "markdown",
   "id": "75f4ffc0-e598-4c1f-9031-e7511edac510",
   "metadata": {},
   "source": [
    "### Pebble Bed Simple"
   ]
  },
  {
   "cell_type": "code",
   "execution_count": 7,
   "id": "5cb92409-a08b-4f59-9d10-5b9ab30a89c7",
   "metadata": {},
   "outputs": [],
   "source": [
    "import openmc\n",
    "import os, sys\n",
    "from pathlib import Path\n",
    "import numpy as np\n",
    "import pandas as pd\n",
    "import matplotlib.pyplot as plt\n",
    "import matplotlib.font_manager as fm\n",
    "from matplotlib.ticker import MultipleLocator, ScalarFormatter\n",
    "from scipy.interpolate import make_interp_spline\n",
    "from scipy.optimize import curve_fit\n",
    "import matplotlib.cm as cm\n",
    "import imageio.v2 as iio # use v2 to avoid deprecation warnings --ppark\n",
    "\n",
    "\n",
    "# Import helper functions\n",
    "sys.path.insert(0, f\"{Path.cwd()}/helper\")\n",
    "from utilities import *\n",
    "\n",
    "MASS_U_LIST = [0.0096, 0.1, 0.5, 1, 5, 10, 20, 30, 40, 50] # metric tons uranium (MTU)\n",
    "n_cells = len(MASS_U_LIST)\n",
    "\"\"\" CHANGE THIS \"\"\"\n",
    "ENRICH_LI = 60 "
   ]
  },
  {
   "cell_type": "markdown",
   "id": "a9460152-62aa-4061-9e58-c3025d1c2a35",
   "metadata": {},
   "source": [
    "Don't run the `sp = openmc.StatePoint(...)` if you plan on running OpenMC that modifies the same directory. The `openmc.StatePoint` opens the `statepoint.100.h5` and prevents OpenMC from writing to it. So, your OpenMC will run but only to fail at the very end with:\n",
    "``` \n",
    "ERROR: Failed to open HDF5 file with mode ‘w’: summary.h5 \n",
    "```\n",
    "If you did run into this error, close the Jupyter notebook instance(s) in `cmd` or `Terminal` and restart them."
   ]
  },
  {
   "cell_type": "code",
   "execution_count": 8,
   "id": "70e23000-9cdd-42cd-9a78-9cef19def519",
   "metadata": {},
   "outputs": [],
   "source": [
    "\"\"\" Load tallies \"\"\"\n",
    "sp = openmc.StatePoint(f'./model_Pebble/statepoint.100.h5') \n",
    "\n",
    "# Make directories for figures \n",
    "for sd in ['pdf','png','gif']:\n",
    "    os.makedirs(f'./figures/{sd}/Pebble/', exist_ok=True)"
   ]
  },
  {
   "cell_type": "code",
   "execution_count": 9,
   "id": "86a7ae9b-d98b-4be9-ab85-0b07a6925817",
   "metadata": {},
   "outputs": [],
   "source": [
    "\"\"\" Convert tallies into usable forms \"\"\"\n",
    "# Read tallies\n",
    "flux_tally = sp.get_tally(name='flux')\n",
    "U_tally    = sp.get_tally(name='uranium rxn rates')\n",
    "Li_tally   = sp.get_tally(name='lithium rxn rates')\n",
    "Be_tally   = sp.get_tally(name='beryllium rxn rates')\n",
    "\n",
    "# Sum over energy bins for total reaction rates\n",
    "Li6_rxn_rates = Li_tally.summation(filter_type=openmc.EnergyFilter, nuclides=['Li6'], remove_filter=True)\n",
    "Li7_rxn_rates = Li_tally.summation(filter_type=openmc.EnergyFilter, nuclides=['Li7'], remove_filter=True)\n",
    "U235_rxn_rates = U_tally.summation(filter_type=openmc.EnergyFilter, nuclides=['U238'], remove_filter=True)\n",
    "U238_rxn_rates = U_tally.summation(filter_type=openmc.EnergyFilter, nuclides=['U238'], remove_filter=True)\n",
    "# print(Li6_rxn_rates.get_pandas_dataframe())\n",
    "\n",
    "# Convert Tally objects into pandas dataframes\n",
    "flux_df = flux_tally.get_pandas_dataframe() # Convert Tally object! Not 'XXX_rxn_rates'! --ppark\n",
    "U_df    = U_tally.get_pandas_dataframe()\n",
    "Li_df   = Li_tally.get_pandas_dataframe()\n",
    "\n",
    "\n",
    "# Add new column for energy bin midpoint (for plotting) \n",
    "flux_df['energy mid [eV]'] = (flux_df['energy low [eV]'] + flux_df['energy high [eV]']) / 2\n",
    "U_df['energy mid [eV]'] = (U_df['energy low [eV]'] + U_df['energy high [eV]']) / 2\n",
    "Li_df['energy mid [eV]'] = (Li_df['energy low [eV]'] + Li_df['energy high [eV]']) / 2\n",
    "\n",
    "cell_ids = U_df['cell'].unique().tolist()\n",
    "# print(flux_df)"
   ]
  },
  {
   "cell_type": "markdown",
   "id": "978c229b-a953-4dc6-bf09-e6b57211aa12",
   "metadata": {},
   "source": [
    "#### Plotting the TBR"
   ]
  },
  {
   "cell_type": "code",
   "execution_count": 10,
   "id": "83892de1-0bee-4739-ba85-933087e49df2",
   "metadata": {},
   "outputs": [
    {
     "name": "stdout",
     "output_type": "stream",
     "text": [
      "[1.5733007650364343, 1.5640360962880242, 1.562162175623224, 1.5618413776320625, 1.561474178656039, 1.583859411216335, 1.561724607522999, 1.593637836355105, 1.5937273619950967, 1.5987387161223818, 1.57751501773602, 1.5717759040710273, 1.5831819348897775, 1.5930031003530696, 1.606627650709911, 1.5992419707108216]\n"
     ]
    },
    {
     "ename": "ValueError",
     "evalue": "'x' and 'y' must have the same size",
     "output_type": "error",
     "traceback": [
      "\u001b[0;31m---------------------------------------------------------------------------\u001b[0m",
      "\u001b[0;31mValueError\u001b[0m                                Traceback (most recent call last)",
      "Cell \u001b[0;32mIn[10], line 13\u001b[0m\n\u001b[1;32m     11\u001b[0m \u001b[38;5;28mprint\u001b[39m(tbr_list)\n\u001b[1;32m     12\u001b[0m plt\u001b[38;5;241m.\u001b[39mfigure()\n\u001b[0;32m---> 13\u001b[0m \u001b[43mplt\u001b[49m\u001b[38;5;241;43m.\u001b[39;49m\u001b[43merrorbar\u001b[49m\u001b[43m(\u001b[49m\u001b[43mMASS_U_LIST\u001b[49m\u001b[43m,\u001b[49m\u001b[43m \u001b[49m\u001b[43mtbr_list\u001b[49m\u001b[43m,\u001b[49m\u001b[43m \u001b[49m\u001b[43myerr\u001b[49m\u001b[38;5;241;43m=\u001b[39;49m\u001b[43mtbr_err_list\u001b[49m\u001b[43m,\u001b[49m\u001b[43m \u001b[49m\u001b[43mfmt\u001b[49m\u001b[38;5;241;43m=\u001b[39;49m\u001b[38;5;124;43m'\u001b[39;49m\u001b[38;5;124;43mo-\u001b[39;49m\u001b[38;5;124;43m'\u001b[39;49m\u001b[43m,\u001b[49m\u001b[43m \u001b[49m\u001b[43mmarkersize\u001b[49m\u001b[38;5;241;43m=\u001b[39;49m\u001b[38;5;241;43m2\u001b[39;49m\u001b[43m,\u001b[49m\u001b[43m \u001b[49m\u001b[43mcapsize\u001b[49m\u001b[38;5;241;43m=\u001b[39;49m\u001b[38;5;241;43m0\u001b[39;49m\u001b[43m,\u001b[49m\u001b[43m \u001b[49m\u001b[43mlinewidth\u001b[49m\u001b[38;5;241;43m=\u001b[39;49m\u001b[38;5;241;43m0.75\u001b[39;49m\u001b[43m,\u001b[49m\u001b[43m \u001b[49m\u001b[43mcolor\u001b[49m\u001b[38;5;241;43m=\u001b[39;49m\u001b[38;5;124;43m'\u001b[39;49m\u001b[38;5;124;43m#000000\u001b[39;49m\u001b[38;5;124;43m'\u001b[39;49m\u001b[43m,\u001b[49m\u001b[43m)\u001b[49m \u001b[38;5;66;03m# turn capsize > 0 to show error bars, but they're super smol\u001b[39;00m\n\u001b[1;32m     14\u001b[0m plt\u001b[38;5;241m.\u001b[39mxlim(\u001b[38;5;241m-\u001b[39m\u001b[38;5;241m1.5\u001b[39m,\u001b[38;5;241m51.5\u001b[39m)\n\u001b[1;32m     15\u001b[0m plt\u001b[38;5;241m.\u001b[39mylim(\u001b[38;5;241m1.65\u001b[39m,\u001b[38;5;241m1.71\u001b[39m)\n",
      "File \u001b[0;32m/usr/lib/python3/dist-packages/matplotlib/pyplot.py:2500\u001b[0m, in \u001b[0;36merrorbar\u001b[0;34m(x, y, yerr, xerr, fmt, ecolor, elinewidth, capsize, barsabove, lolims, uplims, xlolims, xuplims, errorevery, capthick, data, **kwargs)\u001b[0m\n\u001b[1;32m   2494\u001b[0m \u001b[38;5;129m@_copy_docstring_and_deprecators\u001b[39m(Axes\u001b[38;5;241m.\u001b[39merrorbar)\n\u001b[1;32m   2495\u001b[0m \u001b[38;5;28;01mdef\u001b[39;00m \u001b[38;5;21merrorbar\u001b[39m(\n\u001b[1;32m   2496\u001b[0m         x, y, yerr\u001b[38;5;241m=\u001b[39m\u001b[38;5;28;01mNone\u001b[39;00m, xerr\u001b[38;5;241m=\u001b[39m\u001b[38;5;28;01mNone\u001b[39;00m, fmt\u001b[38;5;241m=\u001b[39m\u001b[38;5;124m'\u001b[39m\u001b[38;5;124m'\u001b[39m, ecolor\u001b[38;5;241m=\u001b[39m\u001b[38;5;28;01mNone\u001b[39;00m,\n\u001b[1;32m   2497\u001b[0m         elinewidth\u001b[38;5;241m=\u001b[39m\u001b[38;5;28;01mNone\u001b[39;00m, capsize\u001b[38;5;241m=\u001b[39m\u001b[38;5;28;01mNone\u001b[39;00m, barsabove\u001b[38;5;241m=\u001b[39m\u001b[38;5;28;01mFalse\u001b[39;00m, lolims\u001b[38;5;241m=\u001b[39m\u001b[38;5;28;01mFalse\u001b[39;00m,\n\u001b[1;32m   2498\u001b[0m         uplims\u001b[38;5;241m=\u001b[39m\u001b[38;5;28;01mFalse\u001b[39;00m, xlolims\u001b[38;5;241m=\u001b[39m\u001b[38;5;28;01mFalse\u001b[39;00m, xuplims\u001b[38;5;241m=\u001b[39m\u001b[38;5;28;01mFalse\u001b[39;00m, errorevery\u001b[38;5;241m=\u001b[39m\u001b[38;5;241m1\u001b[39m,\n\u001b[1;32m   2499\u001b[0m         capthick\u001b[38;5;241m=\u001b[39m\u001b[38;5;28;01mNone\u001b[39;00m, \u001b[38;5;241m*\u001b[39m, data\u001b[38;5;241m=\u001b[39m\u001b[38;5;28;01mNone\u001b[39;00m, \u001b[38;5;241m*\u001b[39m\u001b[38;5;241m*\u001b[39mkwargs):\n\u001b[0;32m-> 2500\u001b[0m     \u001b[38;5;28;01mreturn\u001b[39;00m \u001b[43mgca\u001b[49m\u001b[43m(\u001b[49m\u001b[43m)\u001b[49m\u001b[38;5;241;43m.\u001b[39;49m\u001b[43merrorbar\u001b[49m\u001b[43m(\u001b[49m\n\u001b[1;32m   2501\u001b[0m \u001b[43m        \u001b[49m\u001b[43mx\u001b[49m\u001b[43m,\u001b[49m\u001b[43m \u001b[49m\u001b[43my\u001b[49m\u001b[43m,\u001b[49m\u001b[43m \u001b[49m\u001b[43myerr\u001b[49m\u001b[38;5;241;43m=\u001b[39;49m\u001b[43myerr\u001b[49m\u001b[43m,\u001b[49m\u001b[43m \u001b[49m\u001b[43mxerr\u001b[49m\u001b[38;5;241;43m=\u001b[39;49m\u001b[43mxerr\u001b[49m\u001b[43m,\u001b[49m\u001b[43m \u001b[49m\u001b[43mfmt\u001b[49m\u001b[38;5;241;43m=\u001b[39;49m\u001b[43mfmt\u001b[49m\u001b[43m,\u001b[49m\u001b[43m \u001b[49m\u001b[43mecolor\u001b[49m\u001b[38;5;241;43m=\u001b[39;49m\u001b[43mecolor\u001b[49m\u001b[43m,\u001b[49m\n\u001b[1;32m   2502\u001b[0m \u001b[43m        \u001b[49m\u001b[43melinewidth\u001b[49m\u001b[38;5;241;43m=\u001b[39;49m\u001b[43melinewidth\u001b[49m\u001b[43m,\u001b[49m\u001b[43m \u001b[49m\u001b[43mcapsize\u001b[49m\u001b[38;5;241;43m=\u001b[39;49m\u001b[43mcapsize\u001b[49m\u001b[43m,\u001b[49m\u001b[43m \u001b[49m\u001b[43mbarsabove\u001b[49m\u001b[38;5;241;43m=\u001b[39;49m\u001b[43mbarsabove\u001b[49m\u001b[43m,\u001b[49m\n\u001b[1;32m   2503\u001b[0m \u001b[43m        \u001b[49m\u001b[43mlolims\u001b[49m\u001b[38;5;241;43m=\u001b[39;49m\u001b[43mlolims\u001b[49m\u001b[43m,\u001b[49m\u001b[43m \u001b[49m\u001b[43muplims\u001b[49m\u001b[38;5;241;43m=\u001b[39;49m\u001b[43muplims\u001b[49m\u001b[43m,\u001b[49m\u001b[43m \u001b[49m\u001b[43mxlolims\u001b[49m\u001b[38;5;241;43m=\u001b[39;49m\u001b[43mxlolims\u001b[49m\u001b[43m,\u001b[49m\n\u001b[1;32m   2504\u001b[0m \u001b[43m        \u001b[49m\u001b[43mxuplims\u001b[49m\u001b[38;5;241;43m=\u001b[39;49m\u001b[43mxuplims\u001b[49m\u001b[43m,\u001b[49m\u001b[43m \u001b[49m\u001b[43merrorevery\u001b[49m\u001b[38;5;241;43m=\u001b[39;49m\u001b[43merrorevery\u001b[49m\u001b[43m,\u001b[49m\u001b[43m \u001b[49m\u001b[43mcapthick\u001b[49m\u001b[38;5;241;43m=\u001b[39;49m\u001b[43mcapthick\u001b[49m\u001b[43m,\u001b[49m\n\u001b[1;32m   2505\u001b[0m \u001b[43m        \u001b[49m\u001b[38;5;241;43m*\u001b[39;49m\u001b[38;5;241;43m*\u001b[39;49m\u001b[43m(\u001b[49m\u001b[43m{\u001b[49m\u001b[38;5;124;43m\"\u001b[39;49m\u001b[38;5;124;43mdata\u001b[39;49m\u001b[38;5;124;43m\"\u001b[39;49m\u001b[43m:\u001b[49m\u001b[43m \u001b[49m\u001b[43mdata\u001b[49m\u001b[43m}\u001b[49m\u001b[43m \u001b[49m\u001b[38;5;28;43;01mif\u001b[39;49;00m\u001b[43m \u001b[49m\u001b[43mdata\u001b[49m\u001b[43m \u001b[49m\u001b[38;5;129;43;01mis\u001b[39;49;00m\u001b[43m \u001b[49m\u001b[38;5;129;43;01mnot\u001b[39;49;00m\u001b[43m \u001b[49m\u001b[38;5;28;43;01mNone\u001b[39;49;00m\u001b[43m \u001b[49m\u001b[38;5;28;43;01melse\u001b[39;49;00m\u001b[43m \u001b[49m\u001b[43m{\u001b[49m\u001b[43m}\u001b[49m\u001b[43m)\u001b[49m\u001b[43m,\u001b[49m\u001b[43m \u001b[49m\u001b[38;5;241;43m*\u001b[39;49m\u001b[38;5;241;43m*\u001b[39;49m\u001b[43mkwargs\u001b[49m\u001b[43m)\u001b[49m\n",
      "File \u001b[0;32m/usr/lib/python3/dist-packages/matplotlib/__init__.py:1437\u001b[0m, in \u001b[0;36m_preprocess_data.<locals>.inner\u001b[0;34m(ax, data, *args, **kwargs)\u001b[0m\n\u001b[1;32m   1434\u001b[0m \u001b[38;5;129m@functools\u001b[39m\u001b[38;5;241m.\u001b[39mwraps(func)\n\u001b[1;32m   1435\u001b[0m \u001b[38;5;28;01mdef\u001b[39;00m \u001b[38;5;21minner\u001b[39m(ax, \u001b[38;5;241m*\u001b[39margs, data\u001b[38;5;241m=\u001b[39m\u001b[38;5;28;01mNone\u001b[39;00m, \u001b[38;5;241m*\u001b[39m\u001b[38;5;241m*\u001b[39mkwargs):\n\u001b[1;32m   1436\u001b[0m     \u001b[38;5;28;01mif\u001b[39;00m data \u001b[38;5;129;01mis\u001b[39;00m \u001b[38;5;28;01mNone\u001b[39;00m:\n\u001b[0;32m-> 1437\u001b[0m         \u001b[38;5;28;01mreturn\u001b[39;00m \u001b[43mfunc\u001b[49m\u001b[43m(\u001b[49m\u001b[43max\u001b[49m\u001b[43m,\u001b[49m\u001b[43m \u001b[49m\u001b[38;5;241;43m*\u001b[39;49m\u001b[38;5;28;43mmap\u001b[39;49m\u001b[43m(\u001b[49m\u001b[43msanitize_sequence\u001b[49m\u001b[43m,\u001b[49m\u001b[43m \u001b[49m\u001b[43margs\u001b[49m\u001b[43m)\u001b[49m\u001b[43m,\u001b[49m\u001b[43m \u001b[49m\u001b[38;5;241;43m*\u001b[39;49m\u001b[38;5;241;43m*\u001b[39;49m\u001b[43mkwargs\u001b[49m\u001b[43m)\u001b[49m\n\u001b[1;32m   1439\u001b[0m     bound \u001b[38;5;241m=\u001b[39m new_sig\u001b[38;5;241m.\u001b[39mbind(ax, \u001b[38;5;241m*\u001b[39margs, \u001b[38;5;241m*\u001b[39m\u001b[38;5;241m*\u001b[39mkwargs)\n\u001b[1;32m   1440\u001b[0m     auto_label \u001b[38;5;241m=\u001b[39m (bound\u001b[38;5;241m.\u001b[39marguments\u001b[38;5;241m.\u001b[39mget(label_namer)\n\u001b[1;32m   1441\u001b[0m                   \u001b[38;5;129;01mor\u001b[39;00m bound\u001b[38;5;241m.\u001b[39mkwargs\u001b[38;5;241m.\u001b[39mget(label_namer))\n",
      "File \u001b[0;32m/usr/lib/python3/dist-packages/matplotlib/axes/_axes.py:3497\u001b[0m, in \u001b[0;36mAxes.errorbar\u001b[0;34m(self, x, y, yerr, xerr, fmt, ecolor, elinewidth, capsize, barsabove, lolims, uplims, xlolims, xuplims, errorevery, capthick, **kwargs)\u001b[0m\n\u001b[1;32m   3495\u001b[0m x, y \u001b[38;5;241m=\u001b[39m np\u001b[38;5;241m.\u001b[39matleast_1d(x, y)  \u001b[38;5;66;03m# Make sure all the args are iterable.\u001b[39;00m\n\u001b[1;32m   3496\u001b[0m \u001b[38;5;28;01mif\u001b[39;00m \u001b[38;5;28mlen\u001b[39m(x) \u001b[38;5;241m!=\u001b[39m \u001b[38;5;28mlen\u001b[39m(y):\n\u001b[0;32m-> 3497\u001b[0m     \u001b[38;5;28;01mraise\u001b[39;00m \u001b[38;5;167;01mValueError\u001b[39;00m(\u001b[38;5;124m\"\u001b[39m\u001b[38;5;124m'\u001b[39m\u001b[38;5;124mx\u001b[39m\u001b[38;5;124m'\u001b[39m\u001b[38;5;124m and \u001b[39m\u001b[38;5;124m'\u001b[39m\u001b[38;5;124my\u001b[39m\u001b[38;5;124m'\u001b[39m\u001b[38;5;124m must have the same size\u001b[39m\u001b[38;5;124m\"\u001b[39m)\n\u001b[1;32m   3499\u001b[0m everymask \u001b[38;5;241m=\u001b[39m \u001b[38;5;28mself\u001b[39m\u001b[38;5;241m.\u001b[39m_errorevery_to_mask(x, errorevery)\n\u001b[1;32m   3501\u001b[0m label \u001b[38;5;241m=\u001b[39m kwargs\u001b[38;5;241m.\u001b[39mpop(\u001b[38;5;124m\"\u001b[39m\u001b[38;5;124mlabel\u001b[39m\u001b[38;5;124m\"\u001b[39m, \u001b[38;5;28;01mNone\u001b[39;00m)\n",
      "\u001b[0;31mValueError\u001b[0m: 'x' and 'y' must have the same size"
     ]
    },
    {
     "data": {
      "image/png": "[encoded data removed]",
      "text/plain": [
       "<Figure size 640x480 with 1 Axes>"
      ]
     },
     "metadata": {},
     "output_type": "display_data"
    }
   ],
   "source": [
    "Li6_df = Li6_rxn_rates.get_pandas_dataframe()\n",
    "Li7_df = Li7_rxn_rates.get_pandas_dataframe()\n",
    "Li6_nt_df = Li6_df[Li6_df['score'] == '(n,Xt)'][['cell', 'mean', 'std. dev.']]\n",
    "Li7_nt_df = Li7_df[Li6_df['score'] == '(n,Xt)'][['cell', 'mean', 'std. dev.']]\n",
    "\n",
    "# print(Li6_nt_df, Li7_nt_df)\n",
    "\n",
    "tbr_list     = [x + y for x, y in zip(Li6_nt_df['mean'].tolist(), Li7_nt_df['mean'].tolist())]\n",
    "tbr_err_list =[x + y for x, y in zip(Li6_nt_df['std. dev.'].tolist(), Li7_nt_df['std. dev.'].tolist())]\n",
    "# tbr_list = Li6_rxn_rates.get_values(scores=['(n,t)'],value='mean').flatten().tolist() # same thing but I'm more familiar with pandas rn --ppark 2025-07-05\n",
    "print(tbr_list)\n",
    "plt.figure()\n",
    "plt.errorbar(MASS_U_LIST, tbr_list, yerr=tbr_err_list, fmt='o-', markersize=2, capsize=0, linewidth=0.75, color='#000000',) # turn capsize > 0 to show error bars, but they're super smol\n",
    "plt.xlim(-1.5,51.5)\n",
    "plt.ylim(1.65,1.71)\n",
    "# plt.ylim(1.07095,1.0845)\n",
    "plt.title(f'Tritium breeding ratio Pebble Bed (Li-6 {ENRICH_LI}wt%)')\n",
    "plt.xlabel('Uranium loaded [metric tons]')\n",
    "plt.ylabel('Tritium breeding ratio')\n",
    "plt.tight_layout()\n",
    "\n",
    "plt.savefig(f'./figures/pdf/Pebble/fig_tbr.pdf', bbox_inches='tight', format='pdf')\n",
    "plt.savefig(f'./figures/png/Pebble/fig_tbr.png', bbox_inches='tight', format='png')\n",
    "plt.show()"
   ]
  },
  {
   "cell_type": "markdown",
   "id": "0d6c84ee-8012-493d-857d-782f02578edb",
   "metadata": {},
   "source": [
    "#### Plutonium production rate"
   ]
  },
  {
   "cell_type": "code",
   "execution_count": 11,
   "id": "64a5757e-22e5-4698-9fc7-2dbb69292de9",
   "metadata": {},
   "outputs": [
    {
     "name": "stdout",
     "output_type": "stream",
     "text": [
      "[4.042252045003297e-05, 4.016028492310356e-05, 3.996155510614794e-05, 4.1099042393390136e-05, 4.1245060465645724e-05, 4.697085330239671e-05, 5.172230842815297e-05, 6.784865554356879e-05, 8.255700426925731e-05, 0.0001023360352281768, 0.00011699387446040016, 0.0001364207838819335, 0.00015783245595845654, 0.00018445365592655654, 0.00021166852814630965, 0.0002463635421710796]\n"
     ]
    },
    {
     "ename": "ValueError",
     "evalue": "'x' and 'y' must have the same size",
     "output_type": "error",
     "traceback": [
      "\u001b[0;31m---------------------------------------------------------------------------\u001b[0m",
      "\u001b[0;31mValueError\u001b[0m                                Traceback (most recent call last)",
      "Cell \u001b[0;32mIn[11], line 7\u001b[0m\n\u001b[1;32m      4\u001b[0m \u001b[38;5;28mprint\u001b[39m(Pu_list) \u001b[38;5;66;03m# for debug --ppark 2025-07-05\u001b[39;00m\n\u001b[1;32m      6\u001b[0m plt\u001b[38;5;241m.\u001b[39mfigure()\n\u001b[0;32m----> 7\u001b[0m \u001b[43mplt\u001b[49m\u001b[38;5;241;43m.\u001b[39;49m\u001b[43merrorbar\u001b[49m\u001b[43m(\u001b[49m\u001b[43mMASS_U_LIST\u001b[49m\u001b[43m,\u001b[49m\u001b[43m \u001b[49m\u001b[43mPu_list\u001b[49m\u001b[43m,\u001b[49m\u001b[43m \u001b[49m\u001b[43myerr\u001b[49m\u001b[38;5;241;43m=\u001b[39;49m\u001b[43mPu_err_list\u001b[49m\u001b[43m,\u001b[49m\u001b[43m \u001b[49m\u001b[43mfmt\u001b[49m\u001b[38;5;241;43m=\u001b[39;49m\u001b[38;5;124;43m'\u001b[39;49m\u001b[38;5;124;43mo-\u001b[39;49m\u001b[38;5;124;43m'\u001b[39;49m\u001b[43m,\u001b[49m\u001b[43m \u001b[49m\u001b[43mmarkersize\u001b[49m\u001b[38;5;241;43m=\u001b[39;49m\u001b[38;5;241;43m2\u001b[39;49m\u001b[43m,\u001b[49m\u001b[43m \u001b[49m\u001b[43mcapsize\u001b[49m\u001b[38;5;241;43m=\u001b[39;49m\u001b[38;5;241;43m0\u001b[39;49m\u001b[43m,\u001b[49m\u001b[43m \u001b[49m\u001b[43mlinewidth\u001b[49m\u001b[38;5;241;43m=\u001b[39;49m\u001b[38;5;241;43m0.75\u001b[39;49m\u001b[43m,\u001b[49m\u001b[43m \u001b[49m\u001b[43mcolor\u001b[49m\u001b[38;5;241;43m=\u001b[39;49m\u001b[38;5;124;43m'\u001b[39;49m\u001b[38;5;124;43m#000000\u001b[39;49m\u001b[38;5;124;43m'\u001b[39;49m\u001b[43m,\u001b[49m\u001b[43m)\u001b[49m \u001b[38;5;66;03m# turn capsize > 0 to show error bars, but they're super smol\u001b[39;00m\n\u001b[1;32m      8\u001b[0m plt\u001b[38;5;241m.\u001b[39mxlim(\u001b[38;5;241m-\u001b[39m\u001b[38;5;241m1.5\u001b[39m,\u001b[38;5;241m51.5\u001b[39m)\n\u001b[1;32m      9\u001b[0m plt\u001b[38;5;241m.\u001b[39mylim(\u001b[38;5;241m-\u001b[39m\u001b[38;5;241m0.005\u001b[39m,\u001b[38;5;241m0.12\u001b[39m)\n",
      "File \u001b[0;32m/usr/lib/python3/dist-packages/matplotlib/pyplot.py:2500\u001b[0m, in \u001b[0;36merrorbar\u001b[0;34m(x, y, yerr, xerr, fmt, ecolor, elinewidth, capsize, barsabove, lolims, uplims, xlolims, xuplims, errorevery, capthick, data, **kwargs)\u001b[0m\n\u001b[1;32m   2494\u001b[0m \u001b[38;5;129m@_copy_docstring_and_deprecators\u001b[39m(Axes\u001b[38;5;241m.\u001b[39merrorbar)\n\u001b[1;32m   2495\u001b[0m \u001b[38;5;28;01mdef\u001b[39;00m \u001b[38;5;21merrorbar\u001b[39m(\n\u001b[1;32m   2496\u001b[0m         x, y, yerr\u001b[38;5;241m=\u001b[39m\u001b[38;5;28;01mNone\u001b[39;00m, xerr\u001b[38;5;241m=\u001b[39m\u001b[38;5;28;01mNone\u001b[39;00m, fmt\u001b[38;5;241m=\u001b[39m\u001b[38;5;124m'\u001b[39m\u001b[38;5;124m'\u001b[39m, ecolor\u001b[38;5;241m=\u001b[39m\u001b[38;5;28;01mNone\u001b[39;00m,\n\u001b[1;32m   2497\u001b[0m         elinewidth\u001b[38;5;241m=\u001b[39m\u001b[38;5;28;01mNone\u001b[39;00m, capsize\u001b[38;5;241m=\u001b[39m\u001b[38;5;28;01mNone\u001b[39;00m, barsabove\u001b[38;5;241m=\u001b[39m\u001b[38;5;28;01mFalse\u001b[39;00m, lolims\u001b[38;5;241m=\u001b[39m\u001b[38;5;28;01mFalse\u001b[39;00m,\n\u001b[1;32m   2498\u001b[0m         uplims\u001b[38;5;241m=\u001b[39m\u001b[38;5;28;01mFalse\u001b[39;00m, xlolims\u001b[38;5;241m=\u001b[39m\u001b[38;5;28;01mFalse\u001b[39;00m, xuplims\u001b[38;5;241m=\u001b[39m\u001b[38;5;28;01mFalse\u001b[39;00m, errorevery\u001b[38;5;241m=\u001b[39m\u001b[38;5;241m1\u001b[39m,\n\u001b[1;32m   2499\u001b[0m         capthick\u001b[38;5;241m=\u001b[39m\u001b[38;5;28;01mNone\u001b[39;00m, \u001b[38;5;241m*\u001b[39m, data\u001b[38;5;241m=\u001b[39m\u001b[38;5;28;01mNone\u001b[39;00m, \u001b[38;5;241m*\u001b[39m\u001b[38;5;241m*\u001b[39mkwargs):\n\u001b[0;32m-> 2500\u001b[0m     \u001b[38;5;28;01mreturn\u001b[39;00m \u001b[43mgca\u001b[49m\u001b[43m(\u001b[49m\u001b[43m)\u001b[49m\u001b[38;5;241;43m.\u001b[39;49m\u001b[43merrorbar\u001b[49m\u001b[43m(\u001b[49m\n\u001b[1;32m   2501\u001b[0m \u001b[43m        \u001b[49m\u001b[43mx\u001b[49m\u001b[43m,\u001b[49m\u001b[43m \u001b[49m\u001b[43my\u001b[49m\u001b[43m,\u001b[49m\u001b[43m \u001b[49m\u001b[43myerr\u001b[49m\u001b[38;5;241;43m=\u001b[39;49m\u001b[43myerr\u001b[49m\u001b[43m,\u001b[49m\u001b[43m \u001b[49m\u001b[43mxerr\u001b[49m\u001b[38;5;241;43m=\u001b[39;49m\u001b[43mxerr\u001b[49m\u001b[43m,\u001b[49m\u001b[43m \u001b[49m\u001b[43mfmt\u001b[49m\u001b[38;5;241;43m=\u001b[39;49m\u001b[43mfmt\u001b[49m\u001b[43m,\u001b[49m\u001b[43m \u001b[49m\u001b[43mecolor\u001b[49m\u001b[38;5;241;43m=\u001b[39;49m\u001b[43mecolor\u001b[49m\u001b[43m,\u001b[49m\n\u001b[1;32m   2502\u001b[0m \u001b[43m        \u001b[49m\u001b[43melinewidth\u001b[49m\u001b[38;5;241;43m=\u001b[39;49m\u001b[43melinewidth\u001b[49m\u001b[43m,\u001b[49m\u001b[43m \u001b[49m\u001b[43mcapsize\u001b[49m\u001b[38;5;241;43m=\u001b[39;49m\u001b[43mcapsize\u001b[49m\u001b[43m,\u001b[49m\u001b[43m \u001b[49m\u001b[43mbarsabove\u001b[49m\u001b[38;5;241;43m=\u001b[39;49m\u001b[43mbarsabove\u001b[49m\u001b[43m,\u001b[49m\n\u001b[1;32m   2503\u001b[0m \u001b[43m        \u001b[49m\u001b[43mlolims\u001b[49m\u001b[38;5;241;43m=\u001b[39;49m\u001b[43mlolims\u001b[49m\u001b[43m,\u001b[49m\u001b[43m \u001b[49m\u001b[43muplims\u001b[49m\u001b[38;5;241;43m=\u001b[39;49m\u001b[43muplims\u001b[49m\u001b[43m,\u001b[49m\u001b[43m \u001b[49m\u001b[43mxlolims\u001b[49m\u001b[38;5;241;43m=\u001b[39;49m\u001b[43mxlolims\u001b[49m\u001b[43m,\u001b[49m\n\u001b[1;32m   2504\u001b[0m \u001b[43m        \u001b[49m\u001b[43mxuplims\u001b[49m\u001b[38;5;241;43m=\u001b[39;49m\u001b[43mxuplims\u001b[49m\u001b[43m,\u001b[49m\u001b[43m \u001b[49m\u001b[43merrorevery\u001b[49m\u001b[38;5;241;43m=\u001b[39;49m\u001b[43merrorevery\u001b[49m\u001b[43m,\u001b[49m\u001b[43m \u001b[49m\u001b[43mcapthick\u001b[49m\u001b[38;5;241;43m=\u001b[39;49m\u001b[43mcapthick\u001b[49m\u001b[43m,\u001b[49m\n\u001b[1;32m   2505\u001b[0m \u001b[43m        \u001b[49m\u001b[38;5;241;43m*\u001b[39;49m\u001b[38;5;241;43m*\u001b[39;49m\u001b[43m(\u001b[49m\u001b[43m{\u001b[49m\u001b[38;5;124;43m\"\u001b[39;49m\u001b[38;5;124;43mdata\u001b[39;49m\u001b[38;5;124;43m\"\u001b[39;49m\u001b[43m:\u001b[49m\u001b[43m \u001b[49m\u001b[43mdata\u001b[49m\u001b[43m}\u001b[49m\u001b[43m \u001b[49m\u001b[38;5;28;43;01mif\u001b[39;49;00m\u001b[43m \u001b[49m\u001b[43mdata\u001b[49m\u001b[43m \u001b[49m\u001b[38;5;129;43;01mis\u001b[39;49;00m\u001b[43m \u001b[49m\u001b[38;5;129;43;01mnot\u001b[39;49;00m\u001b[43m \u001b[49m\u001b[38;5;28;43;01mNone\u001b[39;49;00m\u001b[43m \u001b[49m\u001b[38;5;28;43;01melse\u001b[39;49;00m\u001b[43m \u001b[49m\u001b[43m{\u001b[49m\u001b[43m}\u001b[49m\u001b[43m)\u001b[49m\u001b[43m,\u001b[49m\u001b[43m \u001b[49m\u001b[38;5;241;43m*\u001b[39;49m\u001b[38;5;241;43m*\u001b[39;49m\u001b[43mkwargs\u001b[49m\u001b[43m)\u001b[49m\n",
      "File \u001b[0;32m/usr/lib/python3/dist-packages/matplotlib/__init__.py:1437\u001b[0m, in \u001b[0;36m_preprocess_data.<locals>.inner\u001b[0;34m(ax, data, *args, **kwargs)\u001b[0m\n\u001b[1;32m   1434\u001b[0m \u001b[38;5;129m@functools\u001b[39m\u001b[38;5;241m.\u001b[39mwraps(func)\n\u001b[1;32m   1435\u001b[0m \u001b[38;5;28;01mdef\u001b[39;00m \u001b[38;5;21minner\u001b[39m(ax, \u001b[38;5;241m*\u001b[39margs, data\u001b[38;5;241m=\u001b[39m\u001b[38;5;28;01mNone\u001b[39;00m, \u001b[38;5;241m*\u001b[39m\u001b[38;5;241m*\u001b[39mkwargs):\n\u001b[1;32m   1436\u001b[0m     \u001b[38;5;28;01mif\u001b[39;00m data \u001b[38;5;129;01mis\u001b[39;00m \u001b[38;5;28;01mNone\u001b[39;00m:\n\u001b[0;32m-> 1437\u001b[0m         \u001b[38;5;28;01mreturn\u001b[39;00m \u001b[43mfunc\u001b[49m\u001b[43m(\u001b[49m\u001b[43max\u001b[49m\u001b[43m,\u001b[49m\u001b[43m \u001b[49m\u001b[38;5;241;43m*\u001b[39;49m\u001b[38;5;28;43mmap\u001b[39;49m\u001b[43m(\u001b[49m\u001b[43msanitize_sequence\u001b[49m\u001b[43m,\u001b[49m\u001b[43m \u001b[49m\u001b[43margs\u001b[49m\u001b[43m)\u001b[49m\u001b[43m,\u001b[49m\u001b[43m \u001b[49m\u001b[38;5;241;43m*\u001b[39;49m\u001b[38;5;241;43m*\u001b[39;49m\u001b[43mkwargs\u001b[49m\u001b[43m)\u001b[49m\n\u001b[1;32m   1439\u001b[0m     bound \u001b[38;5;241m=\u001b[39m new_sig\u001b[38;5;241m.\u001b[39mbind(ax, \u001b[38;5;241m*\u001b[39margs, \u001b[38;5;241m*\u001b[39m\u001b[38;5;241m*\u001b[39mkwargs)\n\u001b[1;32m   1440\u001b[0m     auto_label \u001b[38;5;241m=\u001b[39m (bound\u001b[38;5;241m.\u001b[39marguments\u001b[38;5;241m.\u001b[39mget(label_namer)\n\u001b[1;32m   1441\u001b[0m                   \u001b[38;5;129;01mor\u001b[39;00m bound\u001b[38;5;241m.\u001b[39mkwargs\u001b[38;5;241m.\u001b[39mget(label_namer))\n",
      "File \u001b[0;32m/usr/lib/python3/dist-packages/matplotlib/axes/_axes.py:3497\u001b[0m, in \u001b[0;36mAxes.errorbar\u001b[0;34m(self, x, y, yerr, xerr, fmt, ecolor, elinewidth, capsize, barsabove, lolims, uplims, xlolims, xuplims, errorevery, capthick, **kwargs)\u001b[0m\n\u001b[1;32m   3495\u001b[0m x, y \u001b[38;5;241m=\u001b[39m np\u001b[38;5;241m.\u001b[39matleast_1d(x, y)  \u001b[38;5;66;03m# Make sure all the args are iterable.\u001b[39;00m\n\u001b[1;32m   3496\u001b[0m \u001b[38;5;28;01mif\u001b[39;00m \u001b[38;5;28mlen\u001b[39m(x) \u001b[38;5;241m!=\u001b[39m \u001b[38;5;28mlen\u001b[39m(y):\n\u001b[0;32m-> 3497\u001b[0m     \u001b[38;5;28;01mraise\u001b[39;00m \u001b[38;5;167;01mValueError\u001b[39;00m(\u001b[38;5;124m\"\u001b[39m\u001b[38;5;124m'\u001b[39m\u001b[38;5;124mx\u001b[39m\u001b[38;5;124m'\u001b[39m\u001b[38;5;124m and \u001b[39m\u001b[38;5;124m'\u001b[39m\u001b[38;5;124my\u001b[39m\u001b[38;5;124m'\u001b[39m\u001b[38;5;124m must have the same size\u001b[39m\u001b[38;5;124m\"\u001b[39m)\n\u001b[1;32m   3499\u001b[0m everymask \u001b[38;5;241m=\u001b[39m \u001b[38;5;28mself\u001b[39m\u001b[38;5;241m.\u001b[39m_errorevery_to_mask(x, errorevery)\n\u001b[1;32m   3501\u001b[0m label \u001b[38;5;241m=\u001b[39m kwargs\u001b[38;5;241m.\u001b[39mpop(\u001b[38;5;124m\"\u001b[39m\u001b[38;5;124mlabel\u001b[39m\u001b[38;5;124m\"\u001b[39m, \u001b[38;5;28;01mNone\u001b[39;00m)\n",
      "\u001b[0;31mValueError\u001b[0m: 'x' and 'y' must have the same size"
     ]
    },
    {
     "data": {
      "image/png": "[encoded data removed]",
      "text/plain": [
       "<Figure size 640x480 with 1 Axes>"
      ]
     },
     "metadata": {},
     "output_type": "display_data"
    }
   ],
   "source": [
    "U238_df = U238_rxn_rates.get_pandas_dataframe()\n",
    "U238_abs_df = U238_df[U238_df['score'] == '(n,gamma)'][['cell', 'mean', 'std. dev.']]\n",
    "Pu_list, Pu_err_list = U238_abs_df['mean'].tolist(), U238_abs_df['std. dev.'].tolist()\n",
    "print(Pu_list) # for debug --ppark 2025-07-05\n",
    "\n",
    "plt.figure()\n",
    "plt.errorbar(MASS_U_LIST, Pu_list, yerr=Pu_err_list, fmt='o-', markersize=2, capsize=0, linewidth=0.75, color='#000000',) # turn capsize > 0 to show error bars, but they're super smol\n",
    "plt.xlim(-1.5,51.5)\n",
    "plt.ylim(-0.005,0.12)\n",
    "\n",
    "plt.title(f'Pu-239 production rate Pebble (Li-6 {ENRICH_LI}wt%)')\n",
    "plt.xlabel('Uranium loaded [metric tons]')\n",
    "plt.ylabel(r'Pu-239 produced [atoms$/$source neutron]')\n",
    "plt.tight_layout()\n",
    "\n",
    "plt.savefig(f'./figures/pdf/Pebble/fig_Pu.pdf', bbox_inches='tight', format='pdf')\n",
    "plt.savefig(f'./figures/png/Pebble/fig_Pu.png', bbox_inches='tight', format='png')\n",
    "plt.show()"
   ]
  },
  {
   "cell_type": "code",
   "execution_count": 4,
   "id": "3561e722",
   "metadata": {},
   "outputs": [
    {
     "ename": "NameError",
     "evalue": "name 'Pu_list' is not defined",
     "output_type": "error",
     "traceback": [
      "\u001b[0;31m---------------------------------------------------------------------------\u001b[0m",
      "\u001b[0;31mNameError\u001b[0m                                 Traceback (most recent call last)",
      "Cell \u001b[0;32mIn[4], line 8\u001b[0m\n\u001b[1;32m      6\u001b[0m fusion_power \u001b[38;5;241m=\u001b[39m \u001b[38;5;241m500\u001b[39m \u001b[38;5;66;03m# MW = MJ/s\u001b[39;00m\n\u001b[1;32m      7\u001b[0m neutron_source_rate \u001b[38;5;241m=\u001b[39m fusion_power \u001b[38;5;241m*\u001b[39m neutrons_per_MJ \u001b[38;5;66;03m#n/s\u001b[39;00m\n\u001b[0;32m----> 8\u001b[0m Pu_atoms_per_sec \u001b[38;5;241m=\u001b[39m [pu \u001b[38;5;241m*\u001b[39m neutron_source_rate \u001b[38;5;28;01mfor\u001b[39;00m pu \u001b[38;5;129;01min\u001b[39;00m \u001b[43mPu_list\u001b[49m]\n\u001b[1;32m      9\u001b[0m AVOGADRO \u001b[38;5;241m=\u001b[39m \u001b[38;5;241m6.02214076e23\u001b[39m  \u001b[38;5;66;03m# mol^-1\u001b[39;00m\n\u001b[1;32m     10\u001b[0m M_Pu239 \u001b[38;5;241m=\u001b[39m \u001b[38;5;241m239.0521634\u001b[39m     \u001b[38;5;66;03m# g/mol\u001b[39;00m\n",
      "\u001b[0;31mNameError\u001b[0m: name 'Pu_list' is not defined"
     ]
    }
   ],
   "source": [
    "'''from Ball openmc'''\n",
    "neutrons_per_MJ = 3.546e17 # 1MJ/17.6 Mev = n/MJ\n",
    "fusion_power = 500 # MW = MJ/s\n",
    "'''from Ball openmc'''\n",
    "neutrons_per_MJ = 3.546e17 # 1MJ/17.6 Mev = n/MJ\n",
    "fusion_power = 500 # MW = MJ/s\n",
    "neutron_source_rate = fusion_power * neutrons_per_MJ #n/s\n",
    "Pu_atoms_per_sec = [pu * neutron_source_rate for pu in Pu_list]\n",
    "AVOGADRO = 6.02214076e23  # mol^-1\n",
    "M_Pu239 = 239.0521634     # g/mol\n",
    "SECONDS_PER_YEAR = 3600 * 24 * 365\n",
    "\n",
    "Pu_kg_per_year = [ (atoms_sec / AVOGADRO) * M_Pu239 * 1e-3 * SECONDS_PER_YEAR for atoms_sec in Pu_atoms_per_sec ]\n",
    "\n",
    "print(Pu_list[1], Pu_atoms_per_sec[1], Pu_kg_per_year[1])\n",
    "\n",
    "x = MASS_U_LIST\n",
    "slope = Pu_kg_per_year[1] \n",
    "#tangent line plotting\n",
    "tangent_x = np.linspace(0.0096, 50, 100)\n",
    "tangent_y = slope * (tangent_x) / 0.0096\n",
    "#label making\n",
    "xi = [0.0096, 5, 30]\n",
    "yi = []\n",
    "ytan = []\n",
    "labels = []\n",
    "tangent_labels =[]\n",
    "for val in xi:\n",
    "    index = x.index(val)\n",
    "    tan_index = (np.abs(tangent_x - val)).argmin()\n",
    "    pu_val = Pu_kg_per_year[index]\n",
    "    tan_val = tangent_y[tan_index]\n",
    "    yi.append(pu_val)\n",
    "    ytan.append(tan_val)\n",
    "    labels.append(f\"{val} ton,\\n{pu_val:.1f} kg/yr\")\n",
    "    tangent_labels.append(f\"{val} ton,\\n{tan_val:.1f} kg/yr\")\n",
    "        \n",
    "plt.figure()\n",
    "plt.plot(x, Pu_kg_per_year, marker='.', color='black', linewidth=0.75)\n",
    "plt.plot(tangent_x, tangent_y, 'g--')\n",
    "for x_val, y_val, label in zip(xi, yi, labels):\n",
    "    plt.text(x_val+5, y_val-12, label, fontsize=8, ha='center', va='bottom')\n",
    "for xtan_val, ytan_val, tan_label in zip(xi, ytan, tangent_labels):\n",
    "    plt.text(xtan_val+1, ytan_val+25, tan_label, fontsize=8, ha='center', va='bottom')\n",
    "plt.title('Pu-239 Production Rate')\n",
    "plt.xlabel('Uranium loaded [metric tons]')\n",
    "plt.ylabel('Pu-239 produced [kg/year]')\n",
    "plt.tight_layout()\n",
    "\n",
    "plt.savefig(f'./figures/pdf/Pebble/fig_PuRates.pdf', bbox_inches='tight', format='pdf')\n",
    "plt.savefig(f'./figures/png/Pebble/fig_PuRates.png', bbox_inches='tight', format='png')\n",
    "plt.show()"
   ]
  },
  {
   "cell_type": "markdown",
   "id": "2696914e-18c4-4e8c-a476-4eb804cde9db",
   "metadata": {},
   "source": [
    "#### Plutonium production rate per MTU"
   ]
  },
  {
   "cell_type": "code",
   "execution_count": null,
   "id": "8e77a8ff-2ec8-4cdf-aa23-28847d7627d3",
   "metadata": {},
   "outputs": [],
   "source": [
    "Pu_per_mtu_list = []\n",
    "for i, m in enumerate(MASS_U_LIST[1:]):\n",
    "    Pu_per_mtu_list.append(Pu_list[i+1]/m)\n",
    "print(Pu_per_mtu_list) # for debug --ppark 2025-07-05\n",
    "\n",
    "plt.figure()\n",
    "plt.plot(MASS_U_LIST[1:], Pu_per_mtu_list, markersize=2, linewidth=0.75, color='#000000',) # turn capsize > 0 to show error bars, but they're super smol\n",
    "plt.xlim(-1.5,51.5)\n",
    "plt.ylim(0.0018,0.00260)\n",
    "plt.title(f'Pu-239 production per MTU (Li-6 {ENRICH_LI}wt%)')\n",
    "plt.xlabel('Uranium loaded [metric tons]')\n",
    "plt.ylabel(r'Pu-239 produced per MTU [atoms$/$source neutron$/$MTU]')\n",
    "plt.tight_layout()\n",
    "\n",
    "plt.savefig(f'./figures/pdf/Pebble/fig_Pu.pdf', bbox_inches='tight', format='pdf')\n",
    "plt.savefig(f'./figures/png/Pebble/fig_Pu.png', bbox_inches='tight', format='png')\n",
    "plt.show()"
   ]
  },
  {
   "cell_type": "markdown",
   "id": "541c8c46-be07-41ab-af6d-d225a55d1371",
   "metadata": {},
   "source": [
    "### Reaction rates\n",
    "#### All reaction rates per U loading"
   ]
  },
  {
   "cell_type": "code",
   "execution_count": null,
   "id": "63de99af-9e8b-4c04-be52-5aa3ec903613",
   "metadata": {
    "scrolled": true
   },
   "outputs": [],
   "source": [
    "U238_abs_Ebin_df = U_df[(U_df['nuclide'] == 'U238') & (U_df['score'] == '(n,gamma)')][['energy mid [eV]', 'cell', 'mean', 'std. dev.']]\n",
    "U238_fis_Ebin_df = U_df[(U_df['nuclide'] == 'U238') & (U_df['score'] == 'fission')][['energy mid [eV]', 'cell', 'mean', 'std. dev.']]\n",
    "Li6_nt_Ebin_df   = Li_df[(Li_df['nuclide'] == 'Li6') & (Li_df['score'] == '(n,Xt)')][['energy mid [eV]', 'cell', 'mean', 'std. dev.']]\n",
    "Li7_nt_Ebin_df   = Li_df[(Li_df['nuclide'] == 'Li7') & (Li_df['score'] == '(n,Xt)')][['energy mid [eV]', 'cell', 'mean', 'std. dev.']]\n",
    "# print(U238_abs_Ebin_df)\n",
    "\n",
    "for i, cell_id in enumerate(cell_ids):\n",
    "    x = flux_df[(flux_df['cell'] == cell_id)]['energy mid [eV]']\n",
    "    y_flux     = flux_df[flux_df['cell'] == cell_id]['mean']\n",
    "    y_U238_ng = U238_abs_Ebin_df[U238_abs_Ebin_df['cell'] == cell_id]['mean']\n",
    "    y_U238_fis = U238_fis_Ebin_df[U238_fis_Ebin_df['cell'] == cell_id]['mean']\n",
    "    y_Li6_nt   = Li6_nt_Ebin_df[Li6_nt_Ebin_df['cell'] == cell_id]['mean'] \n",
    "    y_Li7_nt   = Li7_nt_Ebin_df[Li7_nt_Ebin_df['cell'] == cell_id]['mean']\n",
    "\n",
    "    plt.figure()\n",
    "    flux_line, = plt.plot(x, y_flux,     linewidth=0.75, color='#000000', label=r'Flux') # black / flux_line, = is to remove it in lin scale bc it doesn't fit\n",
    "    plt.plot(x, y_Li6_nt,   linewidth=0.75, color='#009ade', label=r'Li-6 (n,t)') # blue\n",
    "    plt.plot(x, y_U238_ng, linewidth=0.75, color='#ff1f5b', label=r'U-238 (n,g)') # red\n",
    "    plt.plot(x, y_U238_fis, linewidth=0.75, color='#f28522', label=r'U-238 (n,fis)') # yellow / #00cd6c = green\n",
    "    plt.plot(x, y_Li7_nt, linewidth=0.75, color='#00cd6c', label=r'Li-7 (n,t)') # green\n",
    "\n",
    "    plt.xlabel('Energy [eV]')\n",
    "    plt.ylabel('Counts $/$ source neutron')\n",
    "    \n",
    "    \n",
    "    ''' Export figure in log-log scale ''' \n",
    "    plt.title(f'Reaction rates Pebble, {MASS_U_LIST[i]} MTU (log-log)')\n",
    "    plt.xscale('log'), plt.yscale('log')\n",
    "    plt.xlim(1e0,2e7), plt.ylim(1e-14,1e2)\n",
    "\n",
    "    # Reposition legend\n",
    "    leg = plt.legend(loc='lower right', ncols=2, frameon=True, fancybox=False, edgecolor='black', framealpha=.75,) # fontsize='small', ncols=1, \n",
    "    leg.get_frame().set_linewidth(1)\n",
    "\n",
    "    # Export figure\n",
    "    plt.savefig(f'./figures/pdf/Pebble/fig_rxnrates_log_{MASS_U_LIST[i]}mtu.pdf', bbox_inches='tight', format='pdf') \n",
    "    plt.savefig(f'./figures/png/Pebble/fig_rxnrates_log_{MASS_U_LIST[i]}mtu.png', bbox_inches='tight', format='png') # you want 'log' before 'mtu' so you can flip thru them in File Explorer\n",
    "\n",
    "    \n",
    "    ''' Export figure in log-lin scale '''\n",
    "    flux_line.remove() # remove flux plot in lin scale bc it doesn't fit\n",
    "    \n",
    "    plt.title(f'Reaction rates Pebble, {MASS_U_LIST[i]} MTU (lin-log)')\n",
    "    plt.xscale('log'), plt.yscale('linear')\n",
    "    plt.xlim(1e0,2e7), plt.ylim(0,0.03)\n",
    "    \n",
    "    # Force scientific notation for y-axis\n",
    "    plt.gca().yaxis.set_major_formatter(ScalarFormatter(useMathText=True))\n",
    "    plt.gca().ticklabel_format(style='sci', axis='y', scilimits=(0,0))\n",
    "    # plt.gca().yaxis.set_major_locator(MultipleLocator(0.001)) # force y ticks at every integer\n",
    "\n",
    "    # Reposition legend\n",
    "    leg = plt.legend(loc='upper left', ncols=1, frameon=True, fancybox=False, edgecolor='black', framealpha=.75,) # fontsize='small', ncols=1, \n",
    "    leg.get_frame().set_linewidth(1)\n",
    "\n",
    "    # Export figure\n",
    "    plt.savefig(f'./figures/pdf/Pebble/fig_rxnrates_lin_{MASS_U_LIST[i]}mtu.pdf', bbox_inches='tight', format='pdf')\n",
    "    plt.savefig(f'./figures/png/Pebble/fig_rxnrates_lin_{MASS_U_LIST[i]}mtu.png', bbox_inches='tight', format='png') # you want 'lin' before 'mtu' so you can flip thru them in File Explorer\n",
    "    \n",
    "    del x, y_U238_ng, y_U238_fis, y_Li6_nt, y_Li7_nt"
   ]
  },
  {
   "cell_type": "markdown",
   "id": "8a605ede-c4c3-4130-81a2-c43f26724ba7",
   "metadata": {},
   "source": [
    "#### Turn the \"Reaction rates per MTU\" plots into GIFs!"
   ]
  },
  {
   "cell_type": "code",
   "execution_count": null,
   "id": "077a7795-e94c-4136-8b94-e3ee96a363b5",
   "metadata": {},
   "outputs": [],
   "source": [
    "filepaths_lin, filepaths_log = [], []\n",
    "for i in MASS_U_LIST:\n",
    "    filepaths_log.append(f\"./figures/png/Pebble/fig_rxnrates_log_{i}mtu.png\")\n",
    "    filepaths_lin.append(f\"./figures/png/Pebble/fig_rxnrates_lin_{i}mtu.png\")\n",
    "\n",
    "frames_log = [iio.imread(path) for path in filepaths_log]\n",
    "frames_lin = [iio.imread(path) for path in filepaths_lin]\n",
    "iio.mimsave(f\"./figures/gif/Pebble/fig_rxnrates_log.gif\", frames_log, fps=1, loop=0) # loop=0 : infinite loop\n",
    "iio.mimsave(f\"./figures/gif/Pebble/fig_rxnrates_lin.gif\", frames_lin, fps=1, loop=0) # loop=0 : infinite loop"
   ]
  },
  {
   "cell_type": "markdown",
   "id": "60c1a376-bfc8-4000-b2f6-1bed843f3736",
   "metadata": {},
   "source": [
    "#### Zoom in U-238 (n,$\\gamma$) as function of MTU on various energy bins in 3$\\times$5 grid"
   ]
  },
  {
   "cell_type": "code",
   "execution_count": null,
   "id": "3af6b2d6",
   "metadata": {},
   "outputs": [],
   "source": [
    "bins_dict = {\n",
    "    r'1 eV$-$3 eV': (0.9, 3), # r'$--$' doesn't actually return proper en dash :(\n",
    "    r'3 eV$-$10 eV': (3, 10), \n",
    "    r'10 eV$-$30 eV': (10, 30),\n",
    "    r'30 eV$-$100 eV': (30, 100),\n",
    "    r'100 eV$-$300 eV': (100, 300),\n",
    "    r'300 eV$-$1 keV': (300, 1e3),\n",
    "    r'1 keV$-$3 keV': (1e3, 3e3),\n",
    "    r'3 keV$-$10 keV': (3e3, 10e3),\n",
    "    r'10 keV$-$30 keV': (10e3, 30e3),\n",
    "    r'30 keV$-$100 keV': (30e3, 100e3),\n",
    "    r'100 keV$-$300 keV': (100e3, 300e3),\n",
    "    r'300 keV$-$1 MeV': (300e3, 1e6),\n",
    "    r'1 MeV$-$3 MeV': (1e6, 3e6),\n",
    "    r'3 MeV$-$10 MeV': (3e6, 10e6),\n",
    "    r'10 MeV$-$14 MeV': (10e6, 15e6),  }\n",
    "\n",
    "\"\"\" \n",
    "Collate y-axis data \n",
    "  U238_abs_Ebin_XY should be a list of length len(MASS_U_LIST), \n",
    "  ex: XY = [xy_for_0mtu, xy_for_0.1mtu,..., xy_for_50mtu]\n",
    "  where each xy_for_*mtu is a df of energies, mean, std. dev. \n",
    "\"\"\"\n",
    "U238_abs_Ebin_XY = []\n",
    "cells = U238_abs_Ebin_df['cell'].unique().tolist()\n",
    "for c in cells:\n",
    "    xy_to_add = U238_abs_Ebin_df[U238_abs_Ebin_df['cell'] == c][['energy mid [eV]','mean','std. dev.']]\n",
    "    U238_abs_Ebin_XY.append(xy_to_add)\n",
    "\n",
    "df_runs = {\n",
    "    mass: df_mass\n",
    "    for mass, df_mass in zip(MASS_U_LIST, U238_abs_Ebin_XY)\n",
    "}\n",
    "\n",
    "# Loop over each loading\n",
    "sum_means = {label: [] for label in bins_dict}\n",
    "sum_stds  = {label: [] for label in bins_dict}\n",
    "for mass in MASS_U_LIST:\n",
    "    dfm = df_runs[mass]\n",
    "    # Loop over each energy bin\n",
    "    for label, (emin, emax) in bins_dict.items():\n",
    "        mask = dfm['energy mid [eV]'].between(emin, emax)\n",
    "        sum_means[label].append(dfm.loc[mask, 'mean'].sum())\n",
    "        sum_stds[label].append(dfm.loc[mask, 'std. dev.'].sum())\n",
    "\n",
    "# TODO: Write this more elegantly with Tally.summation() and Tally.get_slice() lol --ppark\n",
    "# U_tally.get_slice(nuclides=['U238'],scores=['(n,gamma)'], filters=[openmc.CellFilter,openmc.EnergyFilter], filter_bins=[(1,16),((1,3),)])\n",
    "\n",
    "\"\"\" Plot \"\"\"\n",
    "# Prepare subplots: 3 rows x 5 columns for 15 bins\n",
    "fig, axes = plt.subplots(nrows=3, ncols=5, figsize=(18,9))\n",
    "axes = axes.flatten()\n",
    "\n",
    "for ax, (label, (emin, emax)) in zip(axes, bins_dict.items()):\n",
    "    ax.errorbar(MASS_U_LIST, sum_means[label], yerr=sum_stds[label], fmt='o-', markersize=2, capsize=4, linewidth=0.75, color='#00cd6c',) # turn capsize > 0 to show error bars, but they're super smol\n",
    "    ax.set_title(label) #,fontsize=24)\n",
    "    ax.tick_params(axis='both', which='major',) # labelsize=24)\n",
    "    ax.set_xlabel('Uranium loading [metric tons]')\n",
    "    ax.set_ylabel('Rxns $/$ src-n')\n",
    "\n",
    "# Export figure\n",
    "fig.tight_layout() # you need this here\n",
    "plt.savefig(f'./figures/pdf/Pebble/fig_u238ng_grid.pdf', bbox_inches='tight', format='pdf')\n",
    "plt.savefig(f'./figures/png/Pebble/fig_u238ng_grid.png', bbox_inches='tight', format='png') \n",
    "plt.show()"
   ]
  },
  {
   "cell_type": "code",
   "execution_count": 5,
   "id": "fc963a65",
   "metadata": {},
   "outputs": [
    {
     "ename": "NameError",
     "evalue": "name 'sum_means' is not defined",
     "output_type": "error",
     "traceback": [
      "\u001b[0;31m---------------------------------------------------------------------------\u001b[0m",
      "\u001b[0;31mNameError\u001b[0m                                 Traceback (most recent call last)",
      "Cell \u001b[0;32mIn[5], line 4\u001b[0m\n\u001b[1;32m      1\u001b[0m bin_label \u001b[38;5;241m=\u001b[39m \u001b[38;5;124mr\u001b[39m\u001b[38;5;124m'\u001b[39m\u001b[38;5;124m100 eV$-$300 eV\u001b[39m\u001b[38;5;124m'\u001b[39m\n\u001b[1;32m      3\u001b[0m x_vals \u001b[38;5;241m=\u001b[39m np\u001b[38;5;241m.\u001b[39marray(MASS_U_LIST)\n\u001b[0;32m----> 4\u001b[0m y_vals \u001b[38;5;241m=\u001b[39m np\u001b[38;5;241m.\u001b[39marray(\u001b[43msum_means\u001b[49m[bin_label])\n\u001b[1;32m      6\u001b[0m x_vals_plot \u001b[38;5;241m=\u001b[39m x_vals[\u001b[38;5;241m2\u001b[39m:]\n\u001b[1;32m      7\u001b[0m y_vals_plot \u001b[38;5;241m=\u001b[39m y_vals[\u001b[38;5;241m2\u001b[39m:]\n",
      "\u001b[0;31mNameError\u001b[0m: name 'sum_means' is not defined"
     ]
    }
   ],
   "source": [
    "\n",
    "bin_label = r'100 eV$-$300 eV'\n",
    "\n",
    "x_vals = np.array(MASS_U_LIST)\n",
    "y_vals = np.array(sum_means[bin_label])\n",
    "\n",
    "x_vals_plot = x_vals[2:]\n",
    "y_vals_plot = y_vals[2:]\n",
    "\n",
    "fit_x = x_vals[2:5]\n",
    "fit_y = y_vals[2:5]\n",
    "\n",
    "coeffs = np.polyfit(fit_x, fit_y, deg=1)\n",
    "fit_fn = np.poly1d(coeffs)\n",
    "\n",
    "x_fit_full = np.linspace(x_vals_plot.min(), x_vals.max(), 100)\n",
    "y_fit_full = fit_fn(x_fit_full)\n",
    "plt.figure(figsize=(7,5))\n",
    "plt.plot(\n",
    "    x_vals_plot, y_vals_plot, 'o-', markersize=3, linewidth=0.75, color='blue',\n",
    "    label=bin_label\n",
    ")\n",
    "\n",
    "plt.plot(x_fit_full, y_fit_full, '--', color='darkblue')\n",
    "\n",
    "plt.xscale('linear')\n",
    "plt.yscale('log')\n",
    "plt.title(f'Pebble Pu-239 Production Counts in {bin_label} (Li-6 {ENRICH_LI}wt%)')\n",
    "plt.xlabel('Uranium loaded [metric tons]')\n",
    "plt.ylabel('Pu-239 produced [atoms/source neutron]')\n",
    "\n",
    "plt.tight_layout()\n",
    "\n",
    "plt.savefig(f'./figures/pdf/Pebble/fig_Pu_100-300eV_log_fit.pdf', bbox_inches='tight', format='pdf')\n",
    "plt.savefig(f'./figures/png/Pebble/fig_Pu_100-300eV_log_fit.png', bbox_inches='tight', format='png')\n",
    "plt.show()"
   ]
  },
  {
   "cell_type": "code",
   "execution_count": 6,
   "id": "ee982943",
   "metadata": {},
   "outputs": [
    {
     "ename": "NameError",
     "evalue": "name 'cells' is not defined",
     "output_type": "error",
     "traceback": [
      "\u001b[0;31m---------------------------------------------------------------------------\u001b[0m",
      "\u001b[0;31mNameError\u001b[0m                                 Traceback (most recent call last)",
      "Cell \u001b[0;32mIn[6], line 2\u001b[0m\n\u001b[1;32m      1\u001b[0m U238_abs_FLUXbin_XY \u001b[38;5;241m=\u001b[39m []\n\u001b[0;32m----> 2\u001b[0m \u001b[38;5;28;01mfor\u001b[39;00m c \u001b[38;5;129;01min\u001b[39;00m \u001b[43mcells\u001b[49m:\n\u001b[1;32m      3\u001b[0m     flux_xy_to_add \u001b[38;5;241m=\u001b[39m flux_df[flux_df[\u001b[38;5;124m'\u001b[39m\u001b[38;5;124mcell\u001b[39m\u001b[38;5;124m'\u001b[39m] \u001b[38;5;241m==\u001b[39m c][[\u001b[38;5;124m'\u001b[39m\u001b[38;5;124menergy mid [eV]\u001b[39m\u001b[38;5;124m'\u001b[39m,\u001b[38;5;124m'\u001b[39m\u001b[38;5;124mmean\u001b[39m\u001b[38;5;124m'\u001b[39m,\u001b[38;5;124m'\u001b[39m\u001b[38;5;124mstd. dev.\u001b[39m\u001b[38;5;124m'\u001b[39m]]\n\u001b[1;32m      4\u001b[0m     U238_abs_FLUXbin_XY\u001b[38;5;241m.\u001b[39mappend(flux_xy_to_add)\n",
      "\u001b[0;31mNameError\u001b[0m: name 'cells' is not defined"
     ]
    }
   ],
   "source": [
    "U238_abs_FLUXbin_XY = []\n",
    "for c in cells:\n",
    "    flux_xy_to_add = flux_df[flux_df['cell'] == c][['energy mid [eV]','mean','std. dev.']]\n",
    "    U238_abs_FLUXbin_XY.append(flux_xy_to_add)\n",
    "\n",
    "df_runs = {\n",
    "    mass: df_mass\n",
    "    for mass, df_mass in zip(MASS_U_LIST, U238_abs_FLUXbin_XY)\n",
    "}\n",
    "\n",
    "# Loop over each loading\n",
    "sum_means_F = {label: [] for label in bins_dict}\n",
    "sum_stds_F  = {label: [] for label in bins_dict}\n",
    "for mass in MASS_U_LIST:\n",
    "    dfm = df_runs[mass]\n",
    "    # Loop over each energy bin\n",
    "    for label, (emin, emax) in bins_dict.items():\n",
    "        mask = dfm['energy mid [eV]'].between(emin, emax)\n",
    "        sum_means_F[label].append(dfm.loc[mask, 'mean'].sum())\n",
    "        sum_stds_F[label].append(dfm.loc[mask, 'std. dev.'].sum())\n",
    "\n",
    "# TODO: Write this more elegantly with Tally.summation() and Tally.get_slice() lol --ppark\n",
    "# U_tally.get_slice(nuclides=['U238'],scores=['(n,gamma)'], filters=[openmc.CellFilter,openmc.EnergyFilter], filter_bins=[(1,16),((1,3),)])\n",
    "\n",
    "\"\"\" Plot \"\"\"\n",
    "# Prepare subplots: 3 rows x 5 columns for 15 bins\n",
    "fig, axes = plt.subplots(nrows=3, ncols=5, figsize=(18,9))\n",
    "axes = axes.flatten()\n",
    "\n",
    "for ax, (label, (emin, emax)) in zip(axes, bins_dict.items()):\n",
    "    ax.errorbar(MASS_U_LIST, sum_means_F[label], yerr=sum_stds_F[label], fmt='o-', markersize=2, capsize=4, linewidth=0.75, color='#00cd6c',) # turn capsize > 0 to show error bars, but they're super smol\n",
    "    ax.set_title(label,fontsize=14)\n",
    "    ax.tick_params(axis='both', which='major', labelsize=10)\n",
    "    ax.set_xlabel('Uranium loading [metric tons]', fontsize=12)\n",
    "    ax.set_ylabel('Summed Flux $/$ src-n', fontsize=12)\n",
    "\n",
    "# Export figure\n",
    "fig.tight_layout() # you need this here\n",
    "plt.savefig(f'./figures/pdf/Pebble/fig_sumflux_grid.pdf', bbox_inches='tight', format='pdf')\n",
    "plt.savefig(f'./figures/png/Pebble/fig_sumflux_grid.png', bbox_inches='tight', format='png') \n",
    "plt.show()"
   ]
  },
  {
   "cell_type": "code",
   "execution_count": null,
   "id": "8697a5fc",
   "metadata": {},
   "outputs": [],
   "source": [
    "thinbins = np.logspace(-1, np.log10(14e6), 500)  # from 0.1 eV to 14 MeV, 500 bins\n",
    "\n",
    "# Initialize figure\n",
    "plt.figure(figsize=(10,7))\n",
    "\n",
    "# Get a colormap with as many colors as mass loadings\n",
    "colors = cm.rainbow(np.linspace(0, 1, len(MASS_U_LIST)))\n",
    "for mass, color, cell_id in zip(MASS_U_LIST, colors, cell_ids):\n",
    "    energies = flux_df[(flux_df['cell'] == cell_id)]['energy mid [eV]']\n",
    "    weight = U238_abs_Ebin_df[U238_abs_Ebin_df['cell'] == cell_id]['mean']\n",
    "    \n",
    "    # Plot cumulative normalized histogram\n",
    "    plt.hist(energies, bins=thinbins, weights=weight, alpha=0.4, color=color, edgecolor=None, density=True, cumulative=True,\n",
    "             label=f'{mass} mtu')\n",
    "\n",
    "# Final plot formatting\n",
    "plt.title('Pebble Integrated and Normalized U-238 radiative capture spectrum\\nfor various uranium loadings')\n",
    "plt.xlabel('Energy (eV)')\n",
    "plt.ylabel('Counts Distributed (Normalized)')\n",
    "plt.xscale('log')\n",
    "plt.ylim(0, 1)\n",
    "plt.xlim(0.1, 14e6)\n",
    "plt.minorticks_on()\n",
    "plt.grid(True, which='both', ls='--', lw=0.5)\n",
    "\n",
    "# Legend\n",
    "plt.legend(title='U loading', fontsize=8, loc='best')\n",
    "\n",
    "# Save and show\n",
    "plt.tight_layout()\n",
    "plt.savefig(f'./figures/png/Pebble/u238_capture_cumulative_all.png', dpi=300)\n",
    "plt.show()"
   ]
  },
  {
   "cell_type": "code",
   "execution_count": null,
   "id": "f1730f55",
   "metadata": {},
   "outputs": [],
   "source": []
  },
  {
   "cell_type": "code",
   "execution_count": null,
   "id": "20e706c0",
   "metadata": {},
   "outputs": [],
   "source": []
  },
  {
   "cell_type": "code",
   "execution_count": null,
   "id": "97b6925f",
   "metadata": {},
   "outputs": [],
   "source": []
  }
 ],
 "metadata": {
  "kernelspec": {
   "display_name": "Python 3 (ipykernel)",
   "language": "python",
   "name": "python3"
  },
  "language_info": {
   "codemirror_mode": {
    "name": "ipython",
    "version": 3
   },
   "file_extension": ".py",
   "mimetype": "text/x-python",
   "name": "python",
   "nbconvert_exporter": "python",
   "pygments_lexer": "ipython3",
   "version": "3.12.3"
  }
 },
 "nbformat": 4,
 "nbformat_minor": 5
}
