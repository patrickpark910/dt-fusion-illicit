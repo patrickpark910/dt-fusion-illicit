{
 "cells": [
  {
   "cell_type": "markdown",
   "id": "75f4ffc0-e598-4c1f-9031-e7511edac510",
   "metadata": {},
   "source": [
    "### PbLi Simple"
   ]
  },
  {
   "cell_type": "code",
   "execution_count": null,
   "id": "5cb92409-a08b-4f59-9d10-5b9ab30a89c7",
   "metadata": {},
   "outputs": [],
   "source": [
    "import openmc\n",
    "import os, sys\n",
    "from pathlib import Path\n",
    "import numpy as np\n",
    "\n",
    "# Import helper functions\n",
    "sys.path.insert(0, f\"{Path.cwd()}/helper\")\n",
    "from utilities import *"
   ]
  },
  {
   "cell_type": "markdown",
   "id": "2fac3865-b0c8-4907-b6b9-555f7ee25b58",
   "metadata": {},
   "source": [
    "### Materials\n",
    "PbLi density is 9.4 g/cm$^3$ with 90% Li-6 enrichment. In the PbLi, 17 atomic percent lithium to 83% lead. The system is a volume of 342 m$^3$ at 900 K. We increase tons of U in the system, subtracting PbLi, from 0 to 50 metric tons (MTU).\n",
    "\n",
    "> [$\\S$3] The blanket design examined here uses a lead–lithium eutectic (Pb–17Li) with 90% 6 Li enrichment.\n",
    ">\n",
    "> [$\\S$4] Here, we assume a total system inventory of liquid lead–lithium of 10 000 metric tons, which\n",
    "is generally considered a plausible value [13], and corresponds to a volume of 1.06 × 10 g/cm$^3$. \n",
    ">\n",
    "> [$\\S$4] We assume a particle size of 1 mm containing an 800 μm kernel coated with a 100 μm silicon-carbide layer. The average density of these particles would be about 7 g/cm$^3$ compared with 9.4 g/cm$^3$ of liquid lead–lithium, which potentially raises buoyancy issues that may have to be avoided in a practical design\n",
    "\n"
   ]
  },
  {
   "cell_type": "code",
   "execution_count": null,
   "id": "9a198165-74ce-4dea-86a5-126c790cfe69",
   "metadata": {},
   "outputs": [],
   "source": [
    "\"\"\" USER SPECIFICATIONS\n",
    "Nominal values used by Emma and Patrick + reasons\n",
    "  DENSITY_PbLi : float : 9.4 [g/cc] : used by Glaser and Goldston\n",
    "  DENSITY_TRISO   : float : 7 [g/cc] : used by Glaser and Goldston\n",
    "  ENRICH_LI : float : 90 [wt%] : used by Glaser and Goldston\n",
    "  ENRICH_U : float : 0.7204 [wt%] : natural uranium from PNNL-15870 \n",
    "  TEMP_K : float : 900 [K]\n",
    "  VOL_CC : float : 342,000,000 [cc = 342 m3]\n",
    "  MASS_U_LIST : list of floats : 0, 0.1, 1, 2.5, 5, 10, 20, 30, 40, 50 [metric tons U]\n",
    "\"\"\"\n",
    "DENSITY_PbLi = 9.4 # g/cm3\n",
    "DENSITY_TRISO = 7 # g/cm3\n",
    "\n",
    "ENRICH_LI = 90 # 7.5 # wt%\n",
    "ENRICH_U  = 0.7204 # wt% \n",
    "TEMP_K = 900 # K\n",
    "VOL_CC = 342 * 1e6 # cm3\n",
    "MASS_U_LIST = [0, 0.1, 0.2, 0.5, 1, 2.5, 5, 10, 15, 20, 25, 30, 35, 40, 45, 50] # metric tons uranium (MTU)"
   ]
  },
  {
   "cell_type": "code",
   "execution_count": null,
   "id": "81b44b0e-4eab-4005-9d65-63b5e03eb088",
   "metadata": {},
   "outputs": [],
   "source": [
    "\"\"\" MATERIALS \"\"\"\n",
    "# PbLi\n",
    "pbli = openmc.Material() #83% Pb, 17% Li by atomic fraction\n",
    "pbli.set_density('g/cm3', DENSITY_PbLi)\n",
    "pbli.add_element('Pb', 0.83)\n",
    "pbli.add_element('Li', 0.17, enrichment=ENRICH_LI, enrichment_target='Li6', enrichment_type='wo') #Li-6 enrichment to 90%\n",
    "\n",
    "# # metallic TRISO\n",
    "# fuel = openmc.Material(name='Fuel')\n",
    "# fuel.set_density('g/cm3', 19.01)\n",
    "# fuel.add_element('U', 1.0)\n",
    "# Mu238 = fuel.get_mass_density('U238') \n",
    "# Mfuel = fuel.density #used to compute mass fraction of U238 in fuel\n",
    "# # #calculate total fuel mass given a mass of U238 (MASS_U_LIST)\n",
    "\n",
    "# ceramic TRISO -- neglect buoyancy effects --ezoccoli 2025-07-07\n",
    "#TRISO model from OpenMC examples\n",
    "fuel = openmc.Material(name='Fuel')\n",
    "fuel.set_density('g/cm3', 10.5)\n",
    "fuel.add_nuclide('U235', 4.6716e-02)\n",
    "fuel.add_nuclide('U238', 2.8697e-01)\n",
    "fuel.add_nuclide('O16',  5.0000e-01)\n",
    "fuel.add_element('C', 1.6667e-01)\n",
    "Mu238 = fuel.get_mass_density('U238') \n",
    "Mfuel = fuel.density #used to compute mass fraction of U238 in fuel\n",
    "#calculate total fuel mass given a mass of U238 (MASS_U_LIST)\n",
    "\n",
    "\n",
    "\n"
   ]
  },
  {
   "cell_type": "code",
   "execution_count": null,
   "id": "4454821b-4821-4834-9ebd-b77557bccce5",
   "metadata": {
    "scrolled": true
   },
   "outputs": [],
   "source": [
    "# Get various specs for double-checking\n",
    "# print(mix.get_nuclide_densities())\n",
    "#print(triso.get_nuclide_atom_densities('U238'))\n",
    "#print(f\"Mix with {MASS_U_LIST[-1]} MTU\")\n",
    "#print(f\"Mix density: {mix_list[-1].get_mass_density():.6f}\")\n",
    "print(Mu238, Mfuel)\n",
    "print(f\"U-238 number density: {mix_list[-1].get_nuclide_atom_densities('U238')}\")\n",
    "print(f\"Li-6 number density: {mix_list[-1].get_nuclide_atom_densities('Li6')}\")\n",
    "print(f\"U-238 mass: {pbliTRISO.get_mass('U238')}\")\n",
    "print(f\"U-238 mass: {mix_list[-1].get_mass('U238')}\")\n",
    "print(f\"Li-6 number density: {mix_list[-1].get_nuclide_atom_densities('Li6')}\")"
   ]
  },
  {
   "cell_type": "code",
   "execution_count": null,
   "id": "88d3ed41-865e-470d-8049-fcc44f6822bd",
   "metadata": {},
   "outputs": [],
   "source": [
    "\"\"\" CROSS SECTIONS \n",
    "Temporary solution for finding xs files between WSL and Ubuntu on Computing Cluster without editing PATH --ppark 2025-06-28 \n",
    "\"\"\"\n",
    "xs_path_ubuntu = '/opt/openmc_data/endfb-viii.0-hdf5/cross_sections.xml'\n",
    "xs_path_wsl   = '/mnt/c/openmc/data/endfb-viii.0-hdf5/cross_sections.xml'\n",
    "if os.path.isfile(xs_path_ubuntu):\n",
    "    materials.cross_sections = xs_path_ubuntu # use this on Zotacs --ppark\n",
    "elif os.path.isfile(xs_path_wsl):\n",
    "    materials.cross_sections = xs_path_wsl\n",
    "else:\n",
    "    print(f\"Error finding cross section XML!\")\n",
    "    # sys.exit(2)"
   ]
  },
  {
   "cell_type": "markdown",
   "id": "c4405036-a5db-4c37-a36d-9c94471bda76",
   "metadata": {},
   "source": [
    "#### Geometry\n",
    "For our simple case suppose we make a 1 m$^3$ cube with reflective surfaces of homogeneous FLiBe. "
   ]
  },
  {
   "cell_type": "code",
   "execution_count": null,
   "id": "65430f28-19b2-47c0-9baa-4c049339edfe",
   "metadata": {},
   "outputs": [],
   "source": [
    "\"\"\" GEOMETRY \"\"\"\n",
    "cells, pitch, half_box = [], 120, 50 # +/- 50 cm bounds\n",
    "box_centers = [pitch * i for i in range(len(MASS_U_LIST))] # used in Sources\n",
    "\n",
    "for i, material in enumerate(mix_list):\n",
    "    x_min = openmc.XPlane(x0= -half_box + box_centers[i], boundary_type='reflective')\n",
    "    x_max = openmc.XPlane(x0=  half_box + box_centers[i], boundary_type='reflective')\n",
    "    y_min, y_max = openmc.YPlane(-50, boundary_type='reflective'), openmc.YPlane( 50, boundary_type='reflective')\n",
    "    z_min, z_max = openmc.ZPlane(-50, boundary_type='reflective'), openmc.ZPlane( 50, boundary_type='reflective')\n",
    "    region = +x_min & -x_max & +y_min & -y_max & +z_min & -z_max\n",
    "    \n",
    "    cell = openmc.Cell(fill=material, region=region)\n",
    "    cell.name = f\"mix-{i+1}\"\n",
    "    cells.append(cell)\n",
    "\n",
    "root_univ = openmc.Universe(cells=cells) # Create root universe with all material cells\n",
    "root_univ.plot(width=(pitch * len(MASS_U_LIST), 110), origin=(pitch * (len(MASS_U_LIST) - 1) / 2, 0.0, 0.0)) # Visualize\n",
    "geometry = openmc.Geometry(root_univ) # Set geometry"
   ]
  },
  {
   "cell_type": "markdown",
   "id": "fa782236-cadc-4d2e-8b82-2b90bba458aa",
   "metadata": {},
   "source": [
    "#### Settings\n",
    "Here we define the other settings for our problem. "
   ]
  },
  {
   "cell_type": "code",
   "execution_count": null,
   "id": "c7d696f0-59aa-4bf8-9e3c-d686b3606389",
   "metadata": {},
   "outputs": [],
   "source": [
    "\"\"\" TALLIES \"\"\"\n",
    "tallies = openmc.Tallies() # initialize\n",
    "\n",
    "# Filters\n",
    "cell_filter = openmc.CellFilter(cells)\n",
    "\n",
    "E_bin_edges = logspace_per_decade(1e-5, 20e6, 100) # './helpers/utilities.py'\n",
    "energy_filter = openmc.EnergyFilter(E_bin_edges)\n",
    "# energy_filter = openmc.EnergyFilter([0., 0.625, 20.0e6])\n",
    "# --Default thermal, intermediate, fast energy cutoffs in MCNP\n",
    "# energy_filter = openmc.EnergyFilter.from_group_structure('CCFE-709')\n",
    "# --These have extra bins in key energy ranges. A full list of energy structures is available here: --ppark 2025-06-27\n",
    "#   https://github.com/openmc-dev/openmc/blob/6254be37582e09acff038f5656332b89e53e4eae/openmc/mgxs/__init__.py#L50-L420\n",
    "filters = [energy_filter, cell_filter]\n",
    "\n",
    "# Flux tally\n",
    "flux_tally = openmc.Tally(name='flux')\n",
    "flux_tally.scores = ['flux'] # specific names required\n",
    "flux_tally.filters = filters\n",
    "\n",
    "# Uranium reaction rates\n",
    "U_tally = openmc.Tally(name='uranium rxn rates')\n",
    "U_tally.scores = ['(n,gamma)','fission', 'elastic'] # specific names required\n",
    "U_tally.nuclides = ['U238', 'U235']\n",
    "U_tally.filters = filters\n",
    "\n",
    "# Lithium reaction rates\n",
    "Li_tally = openmc.Tally(name='lithium rxn rates')\n",
    "Li_tally.scores = ['(n,gamma)','(n,Xt)', 'elastic'] # specific names required\n",
    "Li_tally.nuclides = ['Li6', 'Li7']\n",
    "Li_tally.filters = filters\n",
    "\n",
    "# Lead reaction rates\n",
    "Pb_tally = openmc.Tally(name='lead rxn rates')\n",
    "Pb_tally.scores = ['(n,gamma)','(n,2n)', 'elastic'] # specific names required\n",
    "Pb_tally.nuclides = ['Pb204', 'Pb206', 'Pb207', 'Pb208']\n",
    "Pb_tally.filters = filters\n",
    "\n",
    "tallies.extend([flux_tally, U_tally, Li_tally, Pb_tally])\n"
   ]
  },
  {
   "cell_type": "code",
   "execution_count": null,
   "id": "6358a0df-0c9d-4f22-bd0f-ac2cd69ac09c",
   "metadata": {},
   "outputs": [],
   "source": [
    "\"\"\" SETTINGS \"\"\"\n",
    "settings = openmc.Settings()\n",
    "\n",
    "\"\"\" Source\n",
    "Isotropic 14.07 MeV point source at center of each cube\n",
    "\"\"\"\n",
    "source = []\n",
    "for p in box_centers:\n",
    "    src = openmc.IndependentSource()\n",
    "    src.space  = openmc.stats.Point((p,0,0))\n",
    "    src.angle  = openmc.stats.Isotropic()\n",
    "    src.energy = openmc.stats.Discrete([14.07e6], [1.0])\n",
    "    source.append(src)\n",
    "settings.source = source\n",
    "\n",
    "\"\"\" Run type \"\"\"\n",
    "settings.run_mode = 'fixed source'\n",
    "settings.particles = int(1e6) * len(MASS_U_LIST)\n",
    "settings.batches = 100\n",
    "\n",
    "# settings.export_to_xml(\"./xml/settings.xml\") # don't need bc 'model.export_to_model_xml' below --ppark 2025-06-28"
   ]
  },
  {
   "cell_type": "markdown",
   "id": "69441826-fcd2-44c7-afcf-8495381426c1",
   "metadata": {},
   "source": [
    "#### Run OpenMC\n",
    "Don't run the `FLiBe-Plots.ipynb` if you plan on running OpenMC. Else you will get:\n",
    "``` \n",
    "ERROR: Failed to open HDF5 file with mode ‘w’: summary.h5 \n",
    "```\n",
    "If you do, close all opened scripts, shut down all kernels, and then restart them."
   ]
  },
  {
   "cell_type": "code",
   "execution_count": null,
   "id": "d2da531c-26b2-4960-b467-847dee82aa9b",
   "metadata": {
    "scrolled": true
   },
   "outputs": [],
   "source": [
    "model = openmc.model.Model(geometry, materials, settings, tallies)\n",
    "model.export_to_model_xml(\"./model_PbLi/\")  \n",
    "results_NSlow = model.run(cwd=\"./model_PbLi/\")  # PbLi with structural materials"
   ]
  },
  {
   "cell_type": "code",
   "execution_count": null,
   "id": "53f6fc11",
   "metadata": {},
   "outputs": [],
   "source": []
  },
  {
   "cell_type": "code",
   "execution_count": null,
   "id": "173018b1",
   "metadata": {},
   "outputs": [],
   "source": []
  },
  {
   "cell_type": "code",
   "execution_count": null,
   "id": "a8944b31",
   "metadata": {},
   "outputs": [],
   "source": []
  }
 ],
 "metadata": {
  "kernelspec": {
   "display_name": "Python 3 (ipykernel)",
   "language": "python",
   "name": "python3"
  },
  "language_info": {
   "codemirror_mode": {
    "name": "ipython",
    "version": 3
   },
   "file_extension": ".py",
   "mimetype": "text/x-python",
   "name": "python",
   "nbconvert_exporter": "python",
   "pygments_lexer": "ipython3",
   "version": "3.12.3"
  }
 },
 "nbformat": 4,
 "nbformat_minor": 5
}
