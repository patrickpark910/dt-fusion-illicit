{
 "cells": [
  {
   "cell_type": "markdown",
   "metadata": {
    "colab": {
     "base_uri": "https://localhost:8080/"
    },
    "id": "q9Vo6HOQUQbS",
    "outputId": "a8c1843c-272d-461a-faf3-4b78fdbced3b"
   },
   "source": [
    "# A TRIGA geometry \n",
    "This notebook can be used as a template for modeling TRIGA reactors."
   ]
  },
  {
   "cell_type": "code",
   "execution_count": 3,
   "metadata": {
    "id": "EChOeJ7qVUB7"
   },
   "outputs": [],
   "source": [
    "%matplotlib inline\n",
    "import numpy as np\n",
    "import openmc"
   ]
  },
  {
   "cell_type": "code",
   "execution_count": 4,
   "metadata": {
    "id": "jlu98MGXV9MP"
   },
   "outputs": [],
   "source": [
    "# Materials definitions\n",
    "\n",
    "# Borated water\n",
    "water = openmc.Material(name='Borated Water')\n",
    "water.set_density('g/cm3', 0.740582)\n",
    "water.add_nuclide('H1', 4.9457e-2)\n",
    "water.add_nuclide('O16', 2.4732e-2)\n",
    "water.add_nuclide('B10', 8.0042e-6)\n",
    "\n",
    "# 20% enriched uranium zirconium hydride fuel\n",
    "uzrh = openmc.Material(name='UZrH')\n",
    "uzrh.set_density('g/cm3', 6.128)\n",
    "uzrh.add_nuclide('U235', .02376, 'wo')\n",
    "uzrh.add_nuclide('U238', .09619, 'wo')\n",
    "uzrh.add_element('H', .03, 'wo')\n",
    "uzrh.add_element('Zr', .85, 'wo')\n",
    "\n",
    "molybdenum = openmc.Material(name='Molybdenum')\n",
    "molybdenum.add_element('Mo', 1.0)\n",
    "molybdenum.set_density('g/cm3', 10.22)\n",
    "\n",
    "graphite = openmc.Material(name='Graphite')\n",
    "graphite.set_density('g/cm3', 1.70)\n",
    "graphite.add_element('C', 1.0)\n",
    "graphite.add_s_alpha_beta('c_Graphite')\n",
    "\n",
    "# Stainless steel\n",
    "ss304 = openmc.Material(name='Stainless Steel 304')\n",
    "ss304.set_density('g/cm3', 8.0)\n",
    "ss304.add_element('C',.002,'wo')\n",
    "ss304.add_element('Si',.004,'wo')\n",
    "ss304.add_element('P',.0003,'wo')\n",
    "ss304.add_element('S',.0002,'wo')\n",
    "ss304.add_element('V',.003,'wo')\n",
    "ss304.add_element('Cr',.115,'wo')\n",
    "ss304.add_element('Mn',.006,'wo')\n",
    "ss304.add_element('Fe',.8495,'wo')\n",
    "ss304.add_element('Ni',.005,'wo')\n",
    "ss304.add_element('Mo',.01,'wo')\n",
    "ss304.add_element('W',.005,'wo')\n",
    "\n",
    "# Boron carbide\n",
    "b4c = openmc.Material(name='Boron Carbide')\n",
    "b4c.set_density('g/cm3', 2.52)\n",
    "b4c.add_element('B', 4)\n",
    "b4c.add_element('C', 1)\n",
    "\n",
    "zirconium = openmc.Material(name='Zirconium')\n",
    "zirconium.add_element('Zr', 1.0)\n",
    "zirconium.set_density('g/cm3', 6.506)\n",
    "\n",
    "void = openmc.Material(name='Void')\n",
    "void.set_density('g/cm3', 0.001205)\n",
    "void.add_element('Ni', 0.755268, 'wo')\n",
    "void.add_element('C', 0.000124, 'wo')\n",
    "void.add_element('O', 0.231781, 'wo')\n",
    "void.add_element('Ar', 0.012827, 'wo')\n",
    "\n",
    "aluminum = openmc.Material(name='Aluminum')\n",
    "aluminum.add_element('Al', 1.0)\n",
    "aluminum.set_density('g/cm3', 2.6)\n",
    "\n",
    "# Instantiate a Materials collection and export to xml\n",
    "materials_file = openmc.Materials([aluminum, zirconium, b4c, ss304, graphite, molybdenum, uzrh, water, void])\n",
    "materials_file.export_to_xml()"
   ]
  },
  {
   "cell_type": "code",
   "execution_count": 5,
   "metadata": {
    "id": "6lDqg4lLWD7v"
   },
   "outputs": [],
   "source": [
    "# Geometry definitions for the fuel rod\n",
    "\n",
    "rod_outer_radius = openmc.ZCylinder(r=0.635)\n",
    "uzrh_outer_radius = openmc.ZCylinder(r=3.6449)\n",
    "molybdenum_outer_radius = openmc.ZCylinder(r=3.6449)\n",
    "graphite_outer_radius = openmc.ZCylinder(r=3.6449)\n",
    "ss304_outer_radius = openmc.ZCylinder(r=3.6449)\n",
    "clad_outer_radius = openmc.ZCylinder(r=3.75412)\n",
    "\n",
    "empty_space_min = openmc.ZPlane(z0=-114.3)\n",
    "empty_space_max = openmc.ZPlane(z0=-55.079265)\n",
    "rod_min = openmc.ZPlane(z0=-55.079265)\n",
    "rod_max = openmc.ZPlane(z0=-16.979265)\n",
    "uzrh_min = openmc.ZPlane(z0=-55.079265)\n",
    "uzrh_max = openmc.ZPlane(z0=-16.979265)\n",
    "molybdenum_min = openmc.ZPlane(z0=-55.15864)\n",
    "molybdenum_max = openmc.ZPlane(z0=-55.079265)\n",
    "graphite_upper_min = openmc.ZPlane(z0=-16.979265)\n",
    "graphite_upper_max = openmc.ZPlane(z0=-10.375265)\n",
    "graphite_lower_min = openmc.ZPlane(z0=-64.621664)\n",
    "graphite_lower_max = openmc.ZPlane(z0=-55.15864)\n",
    "ss304_upper_min = openmc.ZPlane(z0=-10.375265)\n",
    "ss304_upper_max = openmc.ZPlane(z0=+0)\n",
    "ss304_lower_min = openmc.ZPlane(z0=-72.0598)\n",
    "ss304_lower_max = openmc.ZPlane(z0=-64.621664)\n",
    "clad_min = openmc.ZPlane(z0=-72.0598)\n",
    "clad_max = openmc.ZPlane(z0=0)\n",
    "\n",
    "# Create a Universe to encapsulate the fuel rod\n",
    "fuel_universe = openmc.Universe(name='UZrH Fuel Universe')\n",
    "\n",
    "# Create rod cell\n",
    "rod_cell = openmc.Cell(name='Zr Rod')\n",
    "rod_cell.fill = zirconium\n",
    "rod_cell.region = -rod_outer_radius & +rod_min & -rod_max\n",
    "fuel_universe.add_cell(rod_cell)\n",
    "\n",
    "# Create uzrh cell\n",
    "uzrh_cell = openmc.Cell(name='UZrH')\n",
    "uzrh_cell.fill = uzrh\n",
    "uzrh_cell.region = +rod_outer_radius & -uzrh_outer_radius & +uzrh_min & -uzrh_max\n",
    "fuel_universe.add_cell(uzrh_cell)\n",
    "\n",
    "# Create molybdenum disk\n",
    "molybdenum_cell = openmc.Cell(name='Molybdenum')\n",
    "molybdenum_cell.fill = molybdenum\n",
    "molybdenum_cell.region = -molybdenum_outer_radius & +molybdenum_min & -molybdenum_max\n",
    "fuel_universe.add_cell(molybdenum_cell)\n",
    "\n",
    "# Create upper graphite cell\n",
    "graphite_upper_cell = openmc.Cell(name='Upper Graphite')\n",
    "graphite_upper_cell.fill = graphite\n",
    "graphite_upper_cell.region = -graphite_outer_radius & +graphite_upper_min & -graphite_upper_max\n",
    "fuel_universe.add_cell(graphite_upper_cell)\n",
    "\n",
    "# Create lower graphite cell\n",
    "graphite_lower_cell = openmc.Cell(name='Lower Graphite')\n",
    "graphite_lower_cell.fill = graphite\n",
    "graphite_lower_cell.region = -graphite_outer_radius & +graphite_lower_min & -graphite_lower_max\n",
    "fuel_universe.add_cell(graphite_lower_cell)\n",
    "\n",
    "# Create upper ss304 cell\n",
    "ss304_upper_cell = openmc.Cell(name='Upper Stainless Steel 304')\n",
    "ss304_upper_cell.fill = ss304\n",
    "ss304_upper_cell.region = -ss304_outer_radius & +ss304_upper_min & -ss304_upper_max \n",
    "fuel_universe.add_cell(ss304_upper_cell)\n",
    "\n",
    "# Create lower ss304 cell\n",
    "ss304_lower_cell = openmc.Cell(name='Lower Stainless Steel 304')\n",
    "ss304_lower_cell.fill = ss304\n",
    "ss304_lower_cell.region = -ss304_outer_radius & +ss304_lower_min & -ss304_lower_max\n",
    "fuel_universe.add_cell(ss304_lower_cell)\n",
    "\n",
    "# Create clad cell\n",
    "clad_cell = openmc.Cell(name='Stainless Steel 304 Cladding')\n",
    "clad_cell.fill = ss304\n",
    "clad_cell.region = -clad_outer_radius & +ss304_outer_radius & +clad_min & -clad_max\n",
    "fuel_universe.add_cell(clad_cell)\n",
    "\n",
    "# Create empty space cell\n",
    "empty_space_cell = openmc.Cell(name='Empty space before fuel rod')\n",
    "empty_space_cell.fill = water\n",
    "empty_space_cell.region = -clad_outer_radius & +empty_space_min & -empty_space_max\n",
    "fuel_universe.add_cell(empty_space_cell)"
   ]
  },
  {
   "cell_type": "code",
   "execution_count": 6,
   "metadata": {
    "id": "osv05TS3yNUT"
   },
   "outputs": [],
   "source": [
    "# Geometry definitions for the transient rod\n",
    "\n",
    "void_outer_radius = openmc.ZCylinder(r=3.03276)\n",
    "b4c_outer_radius = openmc.ZCylinder(r=3.03276)\n",
    "clad_outer_radius = openmc.ZCylinder(r=3.38455)\n",
    "aluminum_outer_radius = openmc.ZCylinder(r=3.03276)\n",
    "\n",
    "aluminum_1_min = openmc.ZPlane(z0=-114.3)\n",
    "aluminum_1_max = openmc.ZPlane(z0=-113.03)\n",
    "void_1_min = openmc.ZPlane(z0=-113.03)\n",
    "void_1_max = openmc.ZPlane(z0=-57.785)\n",
    "aluminum_2_min = openmc.ZPlane(z0=-57.785)\n",
    "aluminum_2_max = openmc.ZPlane(z0=-56.515)\n",
    "b4c_min = openmc.ZPlane(z0=-56.515)\n",
    "b4c_max = openmc.ZPlane(z0=-18.415)\n",
    "void_2_min = openmc.ZPlane(z0=-18.415)\n",
    "void_2_max = openmc.ZPlane(z0=-18.0975)\n",
    "aluminum_3_min = openmc.ZPlane(z0=-18.0975)\n",
    "aluminum_3_max = openmc.ZPlane(z0=-16.8275)\n",
    "void_3_min = openmc.ZPlane(z0=-16.8275)\n",
    "void_3_max = openmc.ZPlane(z0=-7.3025)\n",
    "aluminum_4_min = openmc.ZPlane(z0=-7.3025)\n",
    "aluminum_4_max = openmc.ZPlane(z0=0)\n",
    "clad_min = openmc.ZPlane(z0=-114.3)\n",
    "clad_max = openmc.ZPlane(z0=0)\n",
    "\n",
    "# Create a Universe to encapsulate the transient rod\n",
    "transient_universe = openmc.Universe(name='Transient Universe')\n",
    "\n",
    "# Create void 1 cell\n",
    "void_1_cell = openmc.Cell(name= 'Void 1')\n",
    "void_1_cell.fill = void\n",
    "void_1_cell.region = -void_outer_radius & +void_1_min & -void_1_max\n",
    "transient_universe.add_cell(void_1_cell)\n",
    "\n",
    "# Create void 2 cell\n",
    "void_2_cell = openmc.Cell(name= 'Void 2')\n",
    "void_2_cell.fill = void\n",
    "void_2_cell.region = -void_outer_radius & +void_2_min & -void_2_max \n",
    "transient_universe.add_cell(void_2_cell)\n",
    "\n",
    "# Create void 3 cell\n",
    "void_3_cell = openmc.Cell(name= 'Void 3')\n",
    "void_3_cell.fill = void\n",
    "void_3_cell.region = -void_outer_radius & +void_3_min & -void_3_max \n",
    "transient_universe.add_cell(void_3_cell)\n",
    "\n",
    "# Create b4c cell\n",
    "b4c_cell = openmc.Cell(name='Boron Carbide')\n",
    "b4c_cell.fill = b4c\n",
    "b4c_cell.region = -b4c_outer_radius & -b4c_max & +b4c_min\n",
    "transient_universe.add_cell(b4c_cell)\n",
    "\n",
    "# Create aluminum 1 cell\n",
    "aluminum_1_cell = openmc.Cell(name='Aluminum')\n",
    "aluminum_1_cell.fill = aluminum\n",
    "aluminum_1_cell.region = -aluminum_outer_radius & +aluminum_1_min & -aluminum_1_max \n",
    "transient_universe.add_cell(aluminum_1_cell)\n",
    "\n",
    "# Create aluminum 2 cell\n",
    "aluminum_2_cell = openmc.Cell(name='Aluminum')\n",
    "aluminum_2_cell.fill = aluminum\n",
    "aluminum_2_cell.region = -aluminum_outer_radius & +aluminum_2_min & -aluminum_2_max\n",
    "transient_universe.add_cell(aluminum_2_cell)\n",
    "\n",
    "# Create aluminum 3 cell\n",
    "aluminum_3_cell = openmc.Cell(name='Aluminum')\n",
    "aluminum_3_cell.fill = aluminum\n",
    "aluminum_3_cell.region = -aluminum_outer_radius & +aluminum_3_min & -aluminum_3_max \n",
    "transient_universe.add_cell(aluminum_3_cell)\n",
    "\n",
    "# Create aluminum 4 cell\n",
    "aluminum_4_cell = openmc.Cell(name='Aluminum')\n",
    "aluminum_4_cell.fill = aluminum\n",
    "aluminum_4_cell.region = -aluminum_outer_radius & +aluminum_4_min & -aluminum_4_max\n",
    "transient_universe.add_cell(aluminum_4_cell)\n",
    "\n",
    "# Create a clad cell\n",
    "clad_cell = openmc.Cell(name='Aluminum Cladding')\n",
    "clad_cell.fill = aluminum\n",
    "clad_cell.region = -clad_outer_radius & +b4c_outer_radius & +clad_min & -clad_max \n",
    "transient_universe.add_cell(clad_cell)"
   ]
  },
  {
   "cell_type": "code",
   "execution_count": 7,
   "metadata": {
    "id": "-0xO897aWbft"
   },
   "outputs": [],
   "source": [
    "# Geometry definitions for the control rod\n",
    "\n",
    "rod_outer_radius = openmc.ZCylinder(r=0.635)\n",
    "uzrh_outer_radius = openmc.ZCylinder(r=3.33375)\n",
    "void_outer_radius = openmc.ZCylinder(r=3.33375)\n",
    "b4c_outer_radius = openmc.ZCylinder(r=3.33375)\n",
    "ss304_outer_radius = openmc.ZCylinder(r=3.33375)\n",
    "clad_outer_radius = openmc.ZCylinder(r=3.38455)\n",
    "\n",
    "ss304_5_min = openmc.ZPlane(z0=-114.3)\n",
    "ss304_5_max = openmc.ZPlane(z0=-113.03)\n",
    "void_4_min = openmc.ZPlane(z0=-113.03)\n",
    "void_4_max = openmc.ZPlane(z0=-99.06)\n",
    "ss304_4_min = openmc.ZPlane(z0=-99.06)\n",
    "ss304_4_max = openmc.ZPlane(z0=-96.52)\n",
    "rod_min = openmc.ZPlane(z0=-96.52)\n",
    "rod_max = openmc.ZPlane(z0=-58.42)\n",
    "uzrh_min = openmc.ZPlane(z0=-96.52)\n",
    "uzrh_max = openmc.ZPlane(z0=-58.42)\n",
    "void_1_min = openmc.ZPlane(z0=-58.42)\n",
    "void_1_max = openmc.ZPlane(z0=-57.785)\n",
    "ss304_1_min = openmc.ZPlane(z0=-57.785)\n",
    "ss304_1_max = openmc.ZPlane(z0=-56.515)\n",
    "b4c_1_min = openmc.ZPlane(z0=-56.515)\n",
    "b4c_1_max = openmc.ZPlane(z0=-18.415)\n",
    "void_2_min = openmc.ZPlane(z0=-18.415)\n",
    "void_2_max = openmc.ZPlane(z0=-18.0975)\n",
    "ss304_2_min = openmc.ZPlane(z0=-18.0975)\n",
    "ss304_2_max = openmc.ZPlane(z0=-16.8275)\n",
    "void_3_min = openmc.ZPlane(z0=-16.8275)\n",
    "void_3_max = openmc.ZPlane(z0=-7.3025)\n",
    "ss304_3_min = openmc.ZPlane(z0=-7.3025)\n",
    "ss304_3_max = openmc.ZPlane(z0=0.0)\n",
    "clad_min = openmc.ZPlane(z0=-114.3)\n",
    "clad_max = openmc.ZPlane(z0=0.0)\n",
    "\n",
    "# Create a Universe to encapsulate the control rod\n",
    "control_universe = openmc.Universe(name='Control Universe')\n",
    "\n",
    "# Create rod cell\n",
    "rod_cell = openmc.Cell(name='Zr Rod')\n",
    "rod_cell.fill = zirconium\n",
    "rod_cell.region = -rod_outer_radius & +rod_min & -rod_max\n",
    "control_universe.add_cell(rod_cell)\n",
    "\n",
    "# Create uzrh cell\n",
    "uzrh_cell = openmc.Cell(name='UZrH')\n",
    "uzrh_cell.fill = uzrh\n",
    "uzrh_cell.region = +rod_outer_radius & -uzrh_outer_radius & +uzrh_min & -uzrh_max\n",
    "control_universe.add_cell(uzrh_cell)\n",
    "\n",
    "# Create void 1 cell\n",
    "void_1_cell = openmc.Cell(name= 'Void 1')\n",
    "void_1_cell.fill = void\n",
    "void_1_cell.region = -void_outer_radius & +void_1_min & -void_1_max\n",
    "control_universe.add_cell(void_1_cell)\n",
    "\n",
    "# Create void 2 cell\n",
    "void_2_cell = openmc.Cell(name= 'Void 2')\n",
    "void_2_cell.fill = void\n",
    "void_2_cell.region = -void_outer_radius & +void_2_min & -void_2_max \n",
    "control_universe.add_cell(void_2_cell)\n",
    "\n",
    "# Create void 3 cell\n",
    "void_3_cell = openmc.Cell(name= 'Void 3')\n",
    "void_3_cell.fill = void\n",
    "void_3_cell.region = -void_outer_radius & +void_3_min & -void_3_max \n",
    "control_universe.add_cell(void_3_cell)\n",
    "\n",
    "# Create void 4 cell\n",
    "void_4_cell = openmc.Cell(name= 'Void 3')\n",
    "void_4_cell.fill = void\n",
    "void_4_cell.region = -void_outer_radius & +void_4_min & -void_4_max \n",
    "control_universe.add_cell(void_4_cell)\n",
    "\n",
    "# Create ss304 1 cell\n",
    "ss304_1_cell = openmc.Cell(name='Stainless Steel 304 Cell 1')\n",
    "ss304_1_cell.fill = ss304\n",
    "ss304_1_cell.region = -ss304_outer_radius & +ss304_1_min & -ss304_1_max \n",
    "control_universe.add_cell(ss304_1_cell)\n",
    "\n",
    "# Create ss304 2 cell\n",
    "ss304_2_cell = openmc.Cell(name='Stainless Steel 304 Cell 2')\n",
    "ss304_2_cell.fill = ss304\n",
    "ss304_2_cell.region = -ss304_outer_radius & +ss304_2_min & -ss304_2_max \n",
    "control_universe.add_cell(ss304_2_cell)\n",
    "\n",
    "# Create ss304 3 cell\n",
    "ss304_3_cell = openmc.Cell(name='Stainless Steel 304 Cell 3')\n",
    "ss304_3_cell.fill = ss304\n",
    "ss304_3_cell.region = -ss304_outer_radius & +ss304_3_min & -ss304_3_max \n",
    "control_universe.add_cell(ss304_3_cell)\n",
    "\n",
    "# Create ss304 4 cell\n",
    "ss304_4_cell = openmc.Cell(name='Stainless Steel 304 Cell 4')\n",
    "ss304_4_cell.fill = ss304\n",
    "ss304_4_cell.region = -ss304_outer_radius & +ss304_4_min & -ss304_4_max \n",
    "control_universe.add_cell(ss304_4_cell)\n",
    "\n",
    "# Create ss304 5 cell\n",
    "ss304_5_cell = openmc.Cell(name='Stainless Steel 304 Cell 5')\n",
    "ss304_5_cell.fill = ss304\n",
    "ss304_5_cell.region = -ss304_outer_radius & +ss304_5_min & -ss304_5_max \n",
    "control_universe.add_cell(ss304_5_cell)\n",
    "\n",
    "# Create b4c 1 cell\n",
    "b4c_1_cell = openmc.Cell(name='B4C cell')\n",
    "b4c_1_cell.fill = b4c\n",
    "b4c_1_cell.region = -b4c_outer_radius & +b4c_1_min & -b4c_1_max\n",
    "control_universe.add_cell(b4c_1_cell) \n",
    "\n",
    "# Create a clad Cell\n",
    "clad_cell = openmc.Cell(name='Stainless Steel 304 Cladding')\n",
    "clad_cell.fill = ss304\n",
    "clad_cell.region = -clad_outer_radius & +ss304_outer_radius & +clad_min & -clad_max #Miriam: cladding is only the exterior coat.\n",
    "control_universe.add_cell(clad_cell)"
   ]
  },
  {
   "cell_type": "code",
   "execution_count": 8,
   "metadata": {
    "id": "8h9JMENTw9P3"
   },
   "outputs": [],
   "source": [
    "# Create water universe to surround the lattice\n",
    "\n",
    "all_water_cell = openmc.Cell(fill=water)\n",
    "outer_universe = openmc.Universe(cells=(all_water_cell,))"
   ]
  },
  {
   "cell_type": "code",
   "execution_count": 9,
   "metadata": {
    "id": "q-VaKsxT8v3b"
   },
   "outputs": [],
   "source": [
    "# Create surfaces that will divide rings in the circular lattice\n",
    "\n",
    "ring_radii = np.array([0.0, 8.0, 16.0, 24.0, 32.0, 40.0])\n",
    "radial_surf = [openmc.ZCylinder(r=r) for r in\n",
    "               (ring_radii[:-1] + ring_radii[1:])/2]\n",
    "\n",
    "water_cells = []\n",
    "for i in range(ring_radii.size):\n",
    "    # Create annular region\n",
    "    if i == 0:\n",
    "        water_region = -radial_surf[i]\n",
    "    elif i == ring_radii.size - 1:\n",
    "        water_region = +radial_surf[i-1]\n",
    "    else:\n",
    "        water_region = +radial_surf[i-1] & -radial_surf[i]\n",
    "    water_cells.append(openmc.Cell(fill=water, region=water_region))"
   ]
  },
  {
   "cell_type": "code",
   "execution_count": 10,
   "metadata": {
    "colab": {
     "base_uri": "https://localhost:8080/",
     "height": 282
    },
    "id": "Ggrtg9BT8w9D",
    "outputId": "9ba193b2-edc8-4540-d234-1f0cb00d5a5d"
   },
   "outputs": [
    {
     "data": {
      "text/plain": [
       "<Axes: xlabel='x [cm]', ylabel='y [cm]'>"
      ]
     },
     "execution_count": 10,
     "metadata": {},
     "output_type": "execute_result"
    },
    {
     "data": {
      "image/png": "[encoded data removed]",
      "text/plain": [
       "<Figure size 258.065x259.74 with 1 Axes>"
      ]
     },
     "metadata": {},
     "output_type": "display_data"
    }
   ],
   "source": [
    "# Plot the rings to visualize the circular lattice, without rods\n",
    "\n",
    "plot_args = {'width': (2*24.1, 2*24.1)}\n",
    "bundle_universe = openmc.Universe(cells=water_cells)\n",
    "bundle_universe.plot(**plot_args)"
   ]
  },
  {
   "cell_type": "code",
   "execution_count": 11,
   "metadata": {
    "colab": {
     "base_uri": "https://localhost:8080/"
    },
    "id": "DGqaeEPN8z2K",
    "outputId": "e68c720d-cb6d-45c2-92b2-a96b9e1d6dd2"
   },
   "outputs": [
    {
     "name": "stdout",
     "output_type": "stream",
     "text": [
      "Adding in a control rod...\n",
      "Adding in a transient rod...\n",
      "Adding in a water rod...\n",
      "Adding in a transient rod...\n",
      "Adding in a control rod...\n",
      "Adding in a control rod...\n",
      "Adding in a water rod...\n"
     ]
    }
   ],
   "source": [
    "# Arrange the pins in the circular lattice \n",
    "\n",
    "num_pins = [1, 6, 12, 18, 24, 30]\n",
    "angles = [0, 0, 0, 0, 0, 0]\n",
    "\n",
    "controlRods = {'numPins'  :[num_pins[1], num_pins[3], num_pins[5]],\n",
    "               'howLeftFrom3oclock':[4          , 2 ,          0]}\n",
    "\n",
    "transientRods = {'numPins'  :[num_pins[3], num_pins[2]],\n",
    "                 'howLeftFrom3oclock':[1          , 0]}\n",
    "\n",
    "waterRods = {'numPins'  :[num_pins[5], num_pins[2]],\n",
    "             'howLeftFrom3oclock':[1          , 8]}\n",
    "\n",
    "def ControlRod(controlRods,n,j):\n",
    "    for irod in range(len(controlRods['numPins'])): \n",
    "        if n   == controlRods['numPins'][irod] and \\\n",
    "           j-1 == controlRods['howLeftFrom3oclock'][irod]:\n",
    "                return True\n",
    "    return False\n",
    "\n",
    "def TransientRod(transientRods,n,j):\n",
    "    for irod in range(len(transientRods['numPins'])): \n",
    "        if n   == transientRods['numPins'][irod] and \\\n",
    "           j-1 == transientRods['howLeftFrom3oclock'][irod]:\n",
    "                return True\n",
    "    return False\n",
    "\n",
    "def WaterRod(waterRods,n,j):\n",
    "    for irod in range(len(waterRods['numPins'])): \n",
    "        if n   == waterRods['numPins'][irod] and \\\n",
    "           j-1 == waterRods['howLeftFrom3oclock'][irod]:\n",
    "                return True\n",
    "    return False\n",
    "\n",
    "\n",
    "for i, (r, n, a) in enumerate(zip(ring_radii, num_pins, angles)):\n",
    "    \n",
    "    for j in range(n):\n",
    "        \n",
    "        # Determine location of center of pin\n",
    "        theta = (a + j/n*360.) * np.pi/180.\n",
    "        x = r*np.cos(theta)\n",
    "        y = r*np.sin(theta)\n",
    "        \n",
    "        pin_boundary = openmc.ZCylinder(x0=x, y0=y, r=clad_outer_radius.r)\n",
    "        water_cells[i].region &= +pin_boundary\n",
    "        \n",
    "        # Create each fuel pin -- note that we explicitly assign an ID so \n",
    "        # that we can identify the pin later when looking at tallies\n",
    "        if ControlRod(controlRods,n,j):\n",
    "            print('Adding in a control rod...')\n",
    "            pin = openmc.Cell(fill=control_universe, region=-pin_boundary)\n",
    "        elif TransientRod(transientRods,n,j):\n",
    "            print('Adding in a transient rod...')\n",
    "            pin = openmc.Cell(fill=transient_universe, region=-pin_boundary)\n",
    "        elif WaterRod(waterRods,n,j):\n",
    "            print('Adding in a water rod...')\n",
    "            pin = openmc.Cell(fill=outer_universe, region=-pin_boundary)\n",
    "        else:\n",
    "            pin = openmc.Cell(fill=fuel_universe, region=-pin_boundary)\n",
    "        pin.translation = (x, y, 0)\n",
    "        pin.id = (i + 1)*100 + j\n",
    "        bundle_universe.add_cell(pin)"
   ]
  },
  {
   "cell_type": "code",
   "execution_count": 12,
   "metadata": {
    "colab": {
     "base_uri": "https://localhost:8080/",
     "height": 282
    },
    "id": "HyyFkCzS843z",
    "outputId": "cbaa5f36-cfe2-4e1b-9178-00cb8272ea21"
   },
   "outputs": [
    {
     "data": {
      "text/plain": [
       "<Axes: xlabel='x [cm]', ylabel='y [cm]'>"
      ]
     },
     "execution_count": 12,
     "metadata": {},
     "output_type": "execute_result"
    },
    {
     "data": {
      "image/png": "[encoded data removed]",
      "text/plain": [
       "<Figure size 258.065x259.74 with 1 Axes>"
      ]
     },
     "metadata": {},
     "output_type": "display_data"
    }
   ],
   "source": [
    "# Plot the rings to visualize the filled circular lattice\n",
    "\n",
    "bundle_universe.plot(width=(100, 100), origin=[0,0,-40], \n",
    "                   basis='xy', color_by='material',\n",
    "                   colors={water:'blue',uzrh:'orange',\n",
    "                   zirconium:'green',graphite:'gray',\n",
    "                   b4c:'yellow'})"
   ]
  },
  {
   "cell_type": "code",
   "execution_count": 13,
   "metadata": {
    "id": "XTzZHTnr0fO7"
   },
   "outputs": [
    {
     "data": {
      "text/plain": [
       "<Axes: xlabel='y [cm]', ylabel='z [cm]'>"
      ]
     },
     "execution_count": 13,
     "metadata": {},
     "output_type": "execute_result"
    },
    {
     "data": {
      "image/png": "[encoded data removed]",
      "text/plain": [
       "<Figure size 94.1935x710.39 with 1 Axes>"
      ]
     },
     "metadata": {},
     "output_type": "display_data"
    }
   ],
   "source": [
    "# Plotting fuel rod\n",
    "\n",
    "fuel_universe.plot(width=(20, 150), origin=[0,0,-40], basis='yz', color_by='material', colors={ss304:'fuchsia'})"
   ]
  },
  {
   "cell_type": "code",
   "execution_count": 14,
   "metadata": {},
   "outputs": [
    {
     "data": {
      "text/plain": [
       "<Axes: xlabel='y [cm]', ylabel='z [cm]'>"
      ]
     },
     "execution_count": 14,
     "metadata": {},
     "output_type": "execute_result"
    },
    {
     "data": {
      "image/png": "[encoded data removed]",
      "text/plain": [
       "<Figure size 94.1935x710.39 with 1 Axes>"
      ]
     },
     "metadata": {},
     "output_type": "display_data"
    }
   ],
   "source": [
    "# Plotting transient rod\n",
    "\n",
    "transient_universe.plot(width=(20, 150), origin=[0,0,-40], basis='yz', color_by='material', colors={water:'fuchsia'})"
   ]
  },
  {
   "cell_type": "code",
   "execution_count": 15,
   "metadata": {},
   "outputs": [
    {
     "data": {
      "text/plain": [
       "<Axes: xlabel='y [cm]', ylabel='z [cm]'>"
      ]
     },
     "execution_count": 15,
     "metadata": {},
     "output_type": "execute_result"
    },
    {
     "data": {
      "image/png": "[encoded data removed]",
      "text/plain": [
       "<Figure size 94.1935x710.39 with 1 Axes>"
      ]
     },
     "metadata": {},
     "output_type": "display_data"
    }
   ],
   "source": [
    "# Plotting control rod\n",
    "\n",
    "control_universe.plot(width=(20, 150), origin=[0,0,-40], basis='yz', color_by='material', colors={ss304:'fuchsia'})"
   ]
  },
  {
   "cell_type": "code",
   "execution_count": 16,
   "metadata": {},
   "outputs": [
    {
     "data": {
      "image/png": "[encoded data removed]",
      "text/plain": [
       "<Figure size 258.065x259.74 with 1 Axes>"
      ]
     },
     "metadata": {},
     "output_type": "display_data"
    }
   ],
   "source": [
    "# Geometry definitions for the reactor\n",
    "\n",
    "reactor_wall = openmc.ZCylinder(r=50.0, boundary_type='vacuum')\n",
    "reactor_top = openmc.ZPlane(z0=0.0, boundary_type='vacuum')\n",
    "reactor_bottom = openmc.ZPlane(z0=-114.3, boundary_type='vacuum')\n",
    "reactor = openmc.Cell()\n",
    "reactor.region = -reactor_wall & -reactor_top & +reactor_bottom\n",
    "reactor.fill = bundle_universe\n",
    "reactor_universe = openmc.Universe(cells=[reactor])\n",
    "\n",
    "reactor_universe.plot(width=(100, 100), origin=[0,0,-40], \n",
    "                   basis='yz', color_by='material',\n",
    "                   colors={water:'blue',uzrh:'orange',\n",
    "                   zirconium:'green',graphite:'gray',\n",
    "                   b4c:'yellow'})\n",
    "\n",
    "geometry = openmc.Geometry(reactor_universe)\n",
    "geometry.export_to_xml()"
   ]
  },
  {
   "cell_type": "code",
   "execution_count": 17,
   "metadata": {
    "cellView": "code",
    "id": "5mPhUg7QWVw4"
   },
   "outputs": [
    {
     "name": "stderr",
     "output_type": "stream",
     "text": [
      "/home/patri/.local/lib/python3.12/site-packages/openmc/stats/multivariate.py:943: FutureWarning: The 'only_fissionable' has been deprecated. Use the 'constraints' argument when defining a source instead.\n",
      "  warn(\"The 'only_fissionable' has been deprecated. Use the \"\n",
      "/home/patri/.local/lib/python3.12/site-packages/openmc/source.py:658: FutureWarning: This class is deprecated in favor of 'IndependentSource'\n",
      "  warnings.warn(\"This class is deprecated in favor of 'IndependentSource'\", FutureWarning)\n"
     ]
    }
   ],
   "source": [
    "# OpenMC simulation parameters\n",
    "\n",
    "batches = 100\n",
    "inactive = 10\n",
    "particles = 5000\n",
    "\n",
    "settings_file = openmc.Settings()\n",
    "settings_file.batches = batches\n",
    "settings_file.inactive = inactive\n",
    "settings_file.particles = particles\n",
    "\n",
    "bounds = [-28.527375, -28.527375, -28.527375, 28.527375, 28.527375, 28.527375]\n",
    "uniform_dist = openmc.stats.Box(bounds[:3], bounds[3:], only_fissionable=True)\n",
    "settings_file.source = openmc.Source(space=uniform_dist)\n",
    "\n",
    "settings_file.export_to_xml()"
   ]
  },
  {
   "cell_type": "code",
   "execution_count": 18,
   "metadata": {
    "id": "A_f292ebWZFM"
   },
   "outputs": [
    {
     "name": "stdout",
     "output_type": "stream",
     "text": [
      "                                %%%%%%%%%%%%%%%\n",
      "                           %%%%%%%%%%%%%%%%%%%%%%%%\n",
      "                        %%%%%%%%%%%%%%%%%%%%%%%%%%%%%%\n",
      "                      %%%%%%%%%%%%%%%%%%%%%%%%%%%%%%%%%%\n",
      "                    %%%%%%%%%%%%%%%%%%%%%%%%%%%%%%%%%%%%%%\n",
      "                   %%%%%%%%%%%%%%%%%%%%%%%%%%%%%%%%%%%%%%%%\n",
      "                                    %%%%%%%%%%%%%%%%%%%%%%%%\n",
      "                                     %%%%%%%%%%%%%%%%%%%%%%%%\n",
      "                 ###############      %%%%%%%%%%%%%%%%%%%%%%%%\n",
      "                ##################     %%%%%%%%%%%%%%%%%%%%%%%\n",
      "                ###################     %%%%%%%%%%%%%%%%%%%%%%%\n",
      "                ####################     %%%%%%%%%%%%%%%%%%%%%%\n",
      "                #####################     %%%%%%%%%%%%%%%%%%%%%\n",
      "                ######################     %%%%%%%%%%%%%%%%%%%%\n",
      "                #######################     %%%%%%%%%%%%%%%%%%\n",
      "                 #######################     %%%%%%%%%%%%%%%%%\n",
      "                 ######################     %%%%%%%%%%%%%%%%%\n",
      "                  ####################     %%%%%%%%%%%%%%%%%\n",
      "                    #################     %%%%%%%%%%%%%%%%%\n",
      "                     ###############     %%%%%%%%%%%%%%%%\n",
      "                       ############     %%%%%%%%%%%%%%%\n",
      "                          ########     %%%%%%%%%%%%%%\n",
      "                                      %%%%%%%%%%%\n",
      "\n",
      "                 | The OpenMC Monte Carlo Code\n",
      "       Copyright | 2011-2025 MIT, UChicago Argonne LLC, and contributors\n",
      "         License | https://docs.openmc.org/en/latest/license.html\n",
      "         Version | 0.15.3-dev55\n",
      "     Commit Hash | 2a0299aec7e83fd978cb584ba8051c7ec6fb8866\n",
      "       Date/Time | 2025-06-25 19:14:48\n",
      "  OpenMP Threads | 32\n",
      "\n",
      " Reading settings XML file...\n",
      " ERROR: No cross_sections.xml file was specified in materials.xml or in the\n",
      "        OPENMC_CROSS_SECTIONS environment variable. OpenMC needs such a file to\n",
      "        identify where to find data libraries. Please consult the user's guide\n",
      "        at https://docs.openmc.org/ for information on how to set up data\n",
      "        libraries.\n"
     ]
    },
    {
     "ename": "RuntimeError",
     "evalue": "No cross_sections.xml file was specified in materials.xml or in the OPENMC_CROSS_SECTIONS environment variable. OpenMC needs such a file to identify where to find data libraries. Please consult the user's guide at https://docs.openmc.org/ for information on how to set up data libraries.",
     "output_type": "error",
     "traceback": [
      "\u001b[31m---------------------------------------------------------------------------\u001b[39m",
      "\u001b[31mRuntimeError\u001b[39m                              Traceback (most recent call last)",
      "\u001b[36mCell\u001b[39m\u001b[36m \u001b[39m\u001b[32mIn[18]\u001b[39m\u001b[32m, line 1\u001b[39m\n\u001b[32m----> \u001b[39m\u001b[32m1\u001b[39m \u001b[43mopenmc\u001b[49m\u001b[43m.\u001b[49m\u001b[43mrun\u001b[49m\u001b[43m(\u001b[49m\u001b[43m)\u001b[49m\n",
      "\u001b[36mFile \u001b[39m\u001b[32m~/.local/lib/python3.12/site-packages/openmc/executor.py:314\u001b[39m, in \u001b[36mrun\u001b[39m\u001b[34m(particles, threads, geometry_debug, restart_file, tracks, output, cwd, openmc_exec, mpi_args, event_based, path_input)\u001b[39m\n\u001b[32m    261\u001b[39m \u001b[38;5;250m\u001b[39m\u001b[33;03m\"\"\"Run an OpenMC simulation.\u001b[39;00m\n\u001b[32m    262\u001b[39m \n\u001b[32m    263\u001b[39m \u001b[33;03mParameters\u001b[39;00m\n\u001b[32m   (...)\u001b[39m\u001b[32m    305\u001b[39m \n\u001b[32m    306\u001b[39m \u001b[33;03m\"\"\"\u001b[39;00m\n\u001b[32m    308\u001b[39m args = _process_CLI_arguments(\n\u001b[32m    309\u001b[39m     volume=\u001b[38;5;28;01mFalse\u001b[39;00m, geometry_debug=geometry_debug, particles=particles,\n\u001b[32m    310\u001b[39m     restart_file=restart_file, threads=threads, tracks=tracks,\n\u001b[32m    311\u001b[39m     event_based=event_based, openmc_exec=openmc_exec, mpi_args=mpi_args,\n\u001b[32m    312\u001b[39m     path_input=path_input)\n\u001b[32m--> \u001b[39m\u001b[32m314\u001b[39m \u001b[43m_run\u001b[49m\u001b[43m(\u001b[49m\u001b[43margs\u001b[49m\u001b[43m,\u001b[49m\u001b[43m \u001b[49m\u001b[43moutput\u001b[49m\u001b[43m,\u001b[49m\u001b[43m \u001b[49m\u001b[43mcwd\u001b[49m\u001b[43m)\u001b[49m\n",
      "\u001b[36mFile \u001b[39m\u001b[32m~/.local/lib/python3.12/site-packages/openmc/executor.py:125\u001b[39m, in \u001b[36m_run\u001b[39m\u001b[34m(args, output, cwd)\u001b[39m\n\u001b[32m    122\u001b[39m     error_msg = \u001b[33m'\u001b[39m\u001b[33mOpenMC aborted unexpectedly.\u001b[39m\u001b[33m'\u001b[39m\n\u001b[32m    123\u001b[39m error_msg = \u001b[33m'\u001b[39m\u001b[33m \u001b[39m\u001b[33m'\u001b[39m.join(error_msg.split())\n\u001b[32m--> \u001b[39m\u001b[32m125\u001b[39m \u001b[38;5;28;01mraise\u001b[39;00m \u001b[38;5;167;01mRuntimeError\u001b[39;00m(error_msg)\n",
      "\u001b[31mRuntimeError\u001b[39m: No cross_sections.xml file was specified in materials.xml or in the OPENMC_CROSS_SECTIONS environment variable. OpenMC needs such a file to identify where to find data libraries. Please consult the user's guide at https://docs.openmc.org/ for information on how to set up data libraries."
     ]
    },
    {
     "name": "stdout",
     "output_type": "stream",
     "text": [
      "       33/1    1.18152    1.18781 +/- 0.00509\n",
      "       34/1    1.19174    1.18797 +/- 0.00488\n",
      "       35/1    1.16542    1.18707 +/- 0.00477\n",
      "       36/1    1.17726    1.18669 +/- 0.00459\n",
      "       37/1    1.18762    1.18673 +/- 0.00442\n",
      "       38/1    1.22714    1.18817 +/- 0.00450\n",
      "       39/1    1.20317    1.18869 +/- 0.00437\n",
      "       40/1    1.19103    1.18877 +/- 0.00422\n",
      "       41/1    1.18732    1.18872 +/- 0.00409\n",
      "       42/1    1.17655    1.18834 +/- 0.00397\n",
      "       43/1    1.19444    1.18852 +/- 0.00386\n",
      "       44/1    1.20193    1.18892 +/- 0.00376\n",
      "       45/1    1.18119    1.18870 +/- 0.00366\n",
      "       46/1    1.20957    1.18928 +/- 0.00360\n",
      "       47/1    1.22192    1.19016 +/- 0.00361\n",
      "       48/1    1.21260    1.19075 +/- 0.00357\n",
      "       49/1    1.21932    1.19148 +/- 0.00355\n",
      "       50/1    1.19490    1.19157 +/- 0.00346\n",
      "       51/1    1.18269    1.19135 +/- 0.00338\n",
      "       52/1    1.22270    1.19210 +/- 0.00338\n",
      "       53/1    1.18729    1.19199 +/- 0.00331\n",
      "       54/1    1.19737    1.19211 +/- 0.00323\n",
      "       55/1    1.20254    1.19234 +/- 0.00317\n",
      "       56/1    1.15489    1.19153 +/- 0.00320\n",
      "       57/1    1.16295    1.19092 +/- 0.00319\n",
      "       58/1    1.21431    1.19141 +/- 0.00316\n",
      "       59/1    1.19051    1.19139 +/- 0.00310\n",
      "       60/1    1.17480    1.19106 +/- 0.00305\n",
      "       61/1    1.18701    1.19098 +/- 0.00300\n",
      "       62/1    1.18980    1.19095 +/- 0.00294\n",
      "       63/1    1.19358    1.19100 +/- 0.00288\n",
      "       64/1    1.24258    1.19196 +/- 0.00298\n",
      "       65/1    1.26457    1.19328 +/- 0.00321\n",
      "       66/1    1.18476    1.19313 +/- 0.00316\n",
      "       67/1    1.19036    1.19308 +/- 0.00310\n",
      "       68/1    1.20020    1.19320 +/- 0.00305\n",
      "       69/1    1.18108    1.19300 +/- 0.00301\n",
      "       70/1    1.16760    1.19257 +/- 0.00299\n",
      "       71/1    1.16753    1.19216 +/- 0.00297\n",
      "       72/1    1.17831    1.19194 +/- 0.00293\n",
      "       73/1    1.21037    1.19223 +/- 0.00289\n",
      "       74/1    1.18342    1.19209 +/- 0.00285\n",
      "       75/1    1.17585    1.19184 +/- 0.00282\n",
      "       76/1    1.20600    1.19206 +/- 0.00278\n",
      "       77/1    1.20947    1.19232 +/- 0.00275\n",
      "       78/1    1.19107    1.19230 +/- 0.00271\n",
      "       79/1    1.24353    1.19304 +/- 0.00278\n",
      "       80/1    1.19198    1.19303 +/- 0.00274\n",
      "       81/1    1.18376    1.19290 +/- 0.00270\n",
      "       82/1    1.20239    1.19303 +/- 0.00267\n",
      "       83/1    1.17231    1.19274 +/- 0.00264\n",
      "       84/1    1.23129    1.19326 +/- 0.00266\n",
      "       85/1    1.19862    1.19334 +/- 0.00262\n",
      "       86/1    1.18867    1.19327 +/- 0.00259\n",
      "       87/1    1.17876    1.19309 +/- 0.00256\n",
      "       88/1    1.20506    1.19324 +/- 0.00254\n",
      "       89/1    1.16997    1.19295 +/- 0.00252\n",
      "       90/1    1.18842    1.19289 +/- 0.00249\n",
      "       91/1    1.20587    1.19305 +/- 0.00246\n",
      "       92/1    1.18877    1.19300 +/- 0.00243\n",
      "       93/1    1.20260    1.19311 +/- 0.00241\n",
      "       94/1    1.16801    1.19281 +/- 0.00240\n",
      "       95/1    1.22211    1.19316 +/- 0.00239\n",
      "       96/1    1.20895    1.19334 +/- 0.00237\n",
      "       97/1    1.17232    1.19310 +/- 0.00236\n",
      "       98/1    1.17738    1.19292 +/- 0.00234\n",
      "       99/1    1.18179    1.19280 +/- 0.00231\n",
      "      100/1    1.21148    1.19300 +/- 0.00230\n",
      " Creating state point statepoint.100.h5...\n",
      "\n",
      " =======================>     TIMING STATISTICS     <=======================\n",
      "\n",
      " Total time for initialization     = 9.2068e+00 seconds\n",
      "   Reading cross sections          = 9.0835e+00 seconds\n",
      " Total time in simulation          = 6.2805e+00 seconds\n",
      "   Time in transport only          = 6.2389e+00 seconds\n",
      "   Time in inactive batches        = 6.3362e-01 seconds\n",
      "   Time in active batches          = 5.6468e+00 seconds\n",
      "   Time synchronizing fission bank = 1.6112e-02 seconds\n",
      "     Sampling source sites         = 1.2967e-02 seconds\n",
      "     SEND/RECV source sites        = 3.0640e-03 seconds\n",
      "   Time accumulating tallies       = 3.5000e-05 seconds\n",
      "   Time writing statepoints        = 8.1710e-03 seconds\n",
      " Total time for finalization       = 4.0000e-06 seconds\n",
      " Total time elapsed                = 1.5534e+01 seconds\n",
      " Calculation Rate (inactive)       = 78911.5 particles/second\n",
      " Calculation Rate (active)         = 79690.4 particles/second\n",
      "\n",
      " ============================>     RESULTS     <============================\n",
      "\n",
      " k-effective (Collision)     = 1.19261 +/- 0.00231\n",
      " k-effective (Track-length)  = 1.19300 +/- 0.00230\n",
      " k-effective (Absorption)    = 1.19197 +/- 0.00160\n",
      " Combined k-effective        = 1.19231 +/- 0.00151\n",
      " Leakage Fraction            = 0.04087 +/- 0.00031\n",
      "\n"
     ]
    }
   ],
   "source": [
    "openmc.run()"
   ]
  }
 ],
 "metadata": {
  "colab": {
   "collapsed_sections": [],
   "name": "2 TRIGA_IPYNB.ipynb",
   "provenance": []
  },
  "kernelspec": {
   "display_name": "Python 3 (ipykernel)",
   "language": "python",
   "name": "python3"
  },
  "language_info": {
   "codemirror_mode": {
    "name": "ipython",
    "version": 3
   },
   "file_extension": ".py",
   "mimetype": "text/x-python",
   "name": "python",
   "nbconvert_exporter": "python",
   "pygments_lexer": "ipython3",
   "version": "3.12.3"
  }
 },
 "nbformat": 4,
 "nbformat_minor": 4
}
