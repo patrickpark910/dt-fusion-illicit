{
 "cells": [
  {
   "cell_type": "markdown",
   "id": "75f4ffc0-e598-4c1f-9031-e7511edac510",
   "metadata": {},
   "source": [
    "### FLiBe Simple"
   ]
  },
  {
   "cell_type": "code",
   "execution_count": 1,
   "id": "5cb92409-a08b-4f59-9d10-5b9ab30a89c7",
   "metadata": {},
   "outputs": [],
   "source": [
    "import openmc\n",
    "import numpy as np\n",
    "import matplotlib.pyplot as plt"
   ]
  },
  {
   "cell_type": "markdown",
   "id": "a9aa8210-f663-4f00-8e28-a8de61799449",
   "metadata": {},
   "source": [
    "#### Nuclear Constants & Helper functions"
   ]
  },
  {
   "cell_type": "code",
   "execution_count": 13,
   "id": "8de7e5af-9795-43e3-9425-1914ee27d3a5",
   "metadata": {},
   "outputs": [],
   "source": [
    "# Nuclear constants\n",
    "#   from atom.kaeri.re.kr/nuchart/\n",
    "AVO = 6.022141e+23\n",
    "LI6_AMU, LI7_AMU = 6.015122, 7.016004 # amu\n",
    "\n",
    "\n",
    "# Helper functions\n",
    "def li_wtfracs(w6):\n",
    "    # Convert a lithium-6 enrichment by weight fraction into atomic fractions of Li-6 and Li-7.\n",
    "    # \n",
    "    # Parameters: w6 : float : Weight fraction of Li-6 (ex. 0.20 for 20 wt% Li-6)\n",
    "    # Returns: x6, x7 : float, float : Atomic fractions of Li-6, Li-7\n",
    "\n",
    "    if not 0.0 <= w6 <= 1.0: \n",
    "        raise ValueError(\"li6_enrich must be between 0 and 1\")\n",
    "\n",
    "    w7 = 1.0 - w6 # wt frac Li-7\n",
    "    n6, n7 = w6 / LI6_AMU, w7 / LI7_AMU \n",
    "    x6, x7 = n6 / (n6 + n7), n7 / (n6 + n7) # Atomic fractions\n",
    "\n",
    "    return x6, x7"
   ]
  },
  {
   "cell_type": "code",
   "execution_count": null,
   "id": "6b639d95-8249-44ac-9ec8-f6a6e2ec6449",
   "metadata": {},
   "outputs": [],
   "source": []
  },
  {
   "cell_type": "code",
   "execution_count": 6,
   "id": "81b44b0e-4eab-4005-9d65-63b5e03eb088",
   "metadata": {},
   "outputs": [],
   "source": [
    "# User specifications\n",
    "FLIBE_DENSITY = 1.9 # usu 1.8-2.0 g/cc\n",
    "LI_ENRICHMENT = 0.2\n",
    "\n",
    "# Materials definitions\n",
    "flibe = openmc.Material(name=\"FLiBe\")\n",
    "flibe.set_density('g/cm3', FLIBE_DENSITY) # usu 1.8-2.0 g/cc\n",
    "\n",
    "N_li6, N_li7 = li_wtfracs(LI_ENRICHMENT)\n",
    "flibe.add_nuclide('Li6', N_li6,)\n",
    "flibe.add_nuclide('Li6', N_li6,)\n",
    "\n",
    "flibe.add_nuclide('Li6', N_li6,)\n",
    "flibe.add_nuclide('Li6', N_li6,)\n",
    "\n",
    "materials = openmc.Materials([flibe])\n",
    "materials.export_to_xml(\"./xml/materials.xml\")"
   ]
  },
  {
   "cell_type": "markdown",
   "id": "c4405036-a5db-4c37-a36d-9c94471bda76",
   "metadata": {},
   "source": [
    "#### Geometry\n",
    "For our simple case suppose we make a 1 cm$^3$ cube with reflective surfaces of homogeneous FLiBe."
   ]
  },
  {
   "cell_type": "code",
   "execution_count": 10,
   "id": "65430f28-19b2-47c0-9baa-4c049339edfe",
   "metadata": {},
   "outputs": [],
   "source": [
    "# Geometry definitions\n",
    "xmin = openmc.XPlane(-0.5, boundary_type='reflective')\n",
    "xmax = openmc.XPlane( 0.5, boundary_type='reflective')\n",
    "ymin = openmc.YPlane(-0.5, boundary_type='reflective')\n",
    "ymax = openmc.YPlane( 0.5, boundary_type='reflective')\n",
    "zmin = openmc.ZPlane(-0.5, boundary_type='reflective')\n",
    "zmax = openmc.ZPlane( 0.5, boundary_type='reflective')\n",
    "\n",
    "region = +xmin & -xmax & +ymin & -ymax & +zmin & -zmax\n",
    "cell = openmc.Cell(fill=flibe, region=region)\n",
    "root_univ = openmc.Universe(cells=[cell])\n",
    "\n",
    "geometry = openmc.Geometry(root_univ)\n",
    "geometry.export_to_xml(\"./xml/geometry.xml\")"
   ]
  },
  {
   "cell_type": "code",
   "execution_count": 9,
   "id": "c7d696f0-59aa-4bf8-9e3c-d686b3606389",
   "metadata": {},
   "outputs": [
    {
     "ename": "AttributeError",
     "evalue": "module 'openmc' has no attribute 'NuclideFilter'",
     "output_type": "error",
     "traceback": [
      "\u001b[31m---------------------------------------------------------------------------\u001b[39m",
      "\u001b[31mAttributeError\u001b[39m                            Traceback (most recent call last)",
      "\u001b[36mCell\u001b[39m\u001b[36m \u001b[39m\u001b[32mIn[9]\u001b[39m\u001b[32m, line 6\u001b[39m\n\u001b[32m      4\u001b[39m \u001b[38;5;66;03m# (n,g) MT=102 tallies for each isotope in the system\u001b[39;00m\n\u001b[32m      5\u001b[39m \u001b[38;5;28;01mfor\u001b[39;00m nuc \u001b[38;5;129;01min\u001b[39;00m [\u001b[33m'\u001b[39m\u001b[33mLi6\u001b[39m\u001b[33m'\u001b[39m, \u001b[33m'\u001b[39m\u001b[33mLi7\u001b[39m\u001b[33m'\u001b[39m, \u001b[33m'\u001b[39m\u001b[33mBe9\u001b[39m\u001b[33m'\u001b[39m, \u001b[33m'\u001b[39m\u001b[33mF19\u001b[39m\u001b[33m'\u001b[39m]:\n\u001b[32m----> \u001b[39m\u001b[32m6\u001b[39m     filt = \u001b[43mopenmc\u001b[49m\u001b[43m.\u001b[49m\u001b[43mNuclideFilter\u001b[49m(nuc)\n\u001b[32m      7\u001b[39m     tally = openmc.Tally(name=\u001b[33mf\u001b[39m\u001b[33m\"\u001b[39m\u001b[33mcapture_\u001b[39m\u001b[38;5;132;01m{\u001b[39;00mnuc\u001b[38;5;132;01m}\u001b[39;00m\u001b[33m\"\u001b[39m)\n\u001b[32m      8\u001b[39m     tally.filters = [filt]\n",
      "\u001b[31mAttributeError\u001b[39m: module 'openmc' has no attribute 'NuclideFilter'"
     ]
    }
   ],
   "source": [
    "# Problem settings - Tallies\n",
    "tallies = openmc.Tallies()\n",
    "\n",
    "# (n,g) MT=102 tallies for each isotope in the system\n",
    "for nuc in ['Li6', 'Li7', 'Be9', 'F19']:\n",
    "    filt = openmc.NuclideFilter(nuc)\n",
    "    tally = openmc.Tally(name=f\"capture_{nuc}\")\n",
    "    tally.filters = [filt]\n",
    "    tally.scores = ['(n,g)']\n",
    "    tallies.append(tally)"
   ]
  },
  {
   "cell_type": "markdown",
   "id": "69441826-fcd2-44c7-afcf-8495381426c1",
   "metadata": {},
   "source": [
    "Run OpenMC"
   ]
  },
  {
   "cell_type": "code",
   "execution_count": 12,
   "id": "09e55392-7721-4b2b-979a-ad760f6159a3",
   "metadata": {},
   "outputs": [
    {
     "name": "stdout",
     "output_type": "stream",
     "text": [
      " ERROR: Could not find any XML input files! In order to run OpenMC, you first\n",
      "        need a set of input files; at a minimum, this includes settings.xml,\n",
      "        geometry.xml, and materials.xml or a single model XML file. Please\n",
      "        consult the user's guide at https://docs.openmc.org for further\n",
      "        information.\n"
     ]
    },
    {
     "ename": "RuntimeError",
     "evalue": "Could not find any XML input files! In order to run OpenMC, you first need a set of input files; at a minimum, this includes settings.xml, geometry.xml, and materials.xml or a single model XML file. Please consult the user's guide at https://docs.openmc.org for further information.",
     "output_type": "error",
     "traceback": [
      "\u001b[31m---------------------------------------------------------------------------\u001b[39m",
      "\u001b[31mRuntimeError\u001b[39m                              Traceback (most recent call last)",
      "\u001b[36mCell\u001b[39m\u001b[36m \u001b[39m\u001b[32mIn[12]\u001b[39m\u001b[32m, line 3\u001b[39m\n\u001b[32m      1\u001b[39m \u001b[38;5;66;03m# if __name__ == '__main__':\u001b[39;00m\n\u001b[32m      2\u001b[39m \u001b[38;5;66;03m#     # If you were to make this a .py script then you should place everything below underneath this if statement\u001b[39;00m\n\u001b[32m----> \u001b[39m\u001b[32m3\u001b[39m \u001b[43mopenmc\u001b[49m\u001b[43m.\u001b[49m\u001b[43mrun\u001b[49m\u001b[43m(\u001b[49m\u001b[43m)\u001b[49m\n\u001b[32m      4\u001b[39m \u001b[38;5;66;03m# sp = openmc.Statepoint(f\"statepoint.{settings.batches}.h5\")\u001b[39;00m\n",
      "\u001b[36mFile \u001b[39m\u001b[32m~/.local/lib/python3.12/site-packages/openmc/executor.py:314\u001b[39m, in \u001b[36mrun\u001b[39m\u001b[34m(particles, threads, geometry_debug, restart_file, tracks, output, cwd, openmc_exec, mpi_args, event_based, path_input)\u001b[39m\n\u001b[32m    261\u001b[39m \u001b[38;5;250m\u001b[39m\u001b[33;03m\"\"\"Run an OpenMC simulation.\u001b[39;00m\n\u001b[32m    262\u001b[39m \n\u001b[32m    263\u001b[39m \u001b[33;03mParameters\u001b[39;00m\n\u001b[32m   (...)\u001b[39m\u001b[32m    305\u001b[39m \n\u001b[32m    306\u001b[39m \u001b[33;03m\"\"\"\u001b[39;00m\n\u001b[32m    308\u001b[39m args = _process_CLI_arguments(\n\u001b[32m    309\u001b[39m     volume=\u001b[38;5;28;01mFalse\u001b[39;00m, geometry_debug=geometry_debug, particles=particles,\n\u001b[32m    310\u001b[39m     restart_file=restart_file, threads=threads, tracks=tracks,\n\u001b[32m    311\u001b[39m     event_based=event_based, openmc_exec=openmc_exec, mpi_args=mpi_args,\n\u001b[32m    312\u001b[39m     path_input=path_input)\n\u001b[32m--> \u001b[39m\u001b[32m314\u001b[39m \u001b[43m_run\u001b[49m\u001b[43m(\u001b[49m\u001b[43margs\u001b[49m\u001b[43m,\u001b[49m\u001b[43m \u001b[49m\u001b[43moutput\u001b[49m\u001b[43m,\u001b[49m\u001b[43m \u001b[49m\u001b[43mcwd\u001b[49m\u001b[43m)\u001b[49m\n",
      "\u001b[36mFile \u001b[39m\u001b[32m~/.local/lib/python3.12/site-packages/openmc/executor.py:125\u001b[39m, in \u001b[36m_run\u001b[39m\u001b[34m(args, output, cwd)\u001b[39m\n\u001b[32m    122\u001b[39m     error_msg = \u001b[33m'\u001b[39m\u001b[33mOpenMC aborted unexpectedly.\u001b[39m\u001b[33m'\u001b[39m\n\u001b[32m    123\u001b[39m error_msg = \u001b[33m'\u001b[39m\u001b[33m \u001b[39m\u001b[33m'\u001b[39m.join(error_msg.split())\n\u001b[32m--> \u001b[39m\u001b[32m125\u001b[39m \u001b[38;5;28;01mraise\u001b[39;00m \u001b[38;5;167;01mRuntimeError\u001b[39;00m(error_msg)\n",
      "\u001b[31mRuntimeError\u001b[39m: Could not find any XML input files! In order to run OpenMC, you first need a set of input files; at a minimum, this includes settings.xml, geometry.xml, and materials.xml or a single model XML file. Please consult the user's guide at https://docs.openmc.org for further information."
     ]
    }
   ],
   "source": [
    "# if __name__ == '__main__':\n",
    "#     # If you were to make this a .py script then you should place everything below underneath this if statement\n",
    "openmc.run()\n",
    "# sp = openmc.Statepoint(f\"statepoint.{settings.batches}.h5\")"
   ]
  }
 ],
 "metadata": {
  "kernelspec": {
   "display_name": "Python 3 (ipykernel)",
   "language": "python",
   "name": "python3"
  },
  "language_info": {
   "codemirror_mode": {
    "name": "ipython",
    "version": 3
   },
   "file_extension": ".py",
   "mimetype": "text/x-python",
   "name": "python",
   "nbconvert_exporter": "python",
   "pygments_lexer": "ipython3",
   "version": "3.12.3"
  }
 },
 "nbformat": 4,
 "nbformat_minor": 5
}
